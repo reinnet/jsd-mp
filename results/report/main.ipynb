{
 "cells": [
  {
   "cell_type": "markdown",
   "id": "increasing-celtic",
   "metadata": {},
   "source": [
    "# Report\n",
    "\n",
    "## Introduction\n",
    "\n",
    "In this document we are reporting the final results that compare our method, abu method and the optimal."
   ]
  },
  {
   "cell_type": "markdown",
   "id": "interim-compilation",
   "metadata": {},
   "source": [
    "## Abu Method\n",
    "\n",
    "Abu-Lebdeh describe a method based on tabu-search to improve VNFM placement on datacenter that already has VNF placement. In our work we are considering the VNF placement jointly with VNFM placement so we are going to change it to consider the placement and after that compare it with our method. In Abu-Lebdeh method there is no way to discard a chain so it can generate infeasible results so we are reserving resources for VNFM to prevent the infeasible situation."
   ]
  },
  {
   "cell_type": "markdown",
   "id": "blessed-supply",
   "metadata": {},
   "source": [
    "As we discuss with Prof. Bakhshi he want to change our reservation algorithm. Instead of reserving on each node we are reserving on random nodes."
   ]
  },
  {
   "cell_type": "markdown",
   "id": "rocky-immunology",
   "metadata": {},
   "source": [
    "We are going to start with following configuration:\n",
    "\n",
    "- Fat Tree with k = 4\n",
    "- 100 Chains"
   ]
  },
  {
   "cell_type": "markdown",
   "id": "reported-yield",
   "metadata": {},
   "source": [
    "### for 100% reservation\n",
    "- abu solution takes 102.7387068271637 seconds\n",
    "- Placement has profit: 23500 and cost: 2100\n",
    "- 46 has been placed successfully from 100"
   ]
  },
  {
   "cell_type": "markdown",
   "id": "earlier-diary",
   "metadata": {},
   "source": [
    "### for 80% reservation\n",
    "- abu solution takes 108.08455514907837 seconds\n",
    "- Placement has profit: 23700 and cost: 2100\n",
    "- 47 has been placed successfully from 100"
   ]
  },
  {
   "cell_type": "markdown",
   "id": "hazardous-genius",
   "metadata": {},
   "source": [
    "### for 60% reservation\n",
    "\n",
    "- abu solution takes 119.64389228820801 seconds\n",
    "- Placement has profit: 23800 and cost: 2100\n",
    "- 47 has been placed successfully from 100"
   ]
  },
  {
   "cell_type": "markdown",
   "id": "disciplinary-grave",
   "metadata": {},
   "source": [
    "### for 40% reservation\n",
    "\n",
    "- abu solution takes 109.58936262130737 seconds\n",
    "- Placement has profit: 24600 and cost: 2100\n",
    "- 49 has been placed successfully from 100"
   ]
  },
  {
   "cell_type": "markdown",
   "id": "patient-stations",
   "metadata": {},
   "source": [
    "### for 20% reservation\n",
    "\n",
    "- abu solution takes 114.54797577857971 seconds\n",
    "- Placement has profit: 24300 and cost: 2100\n",
    "- 48 has been placed successfully from 100"
   ]
  },
  {
   "cell_type": "code",
   "execution_count": 3,
   "id": "american-dutch",
   "metadata": {},
   "outputs": [
    {
     "name": "stdout",
     "output_type": "stream",
     "text": [
      "\n",
      "  ╔╗╔═══╗╔═══╗     ╔═╗╔═╗╔═══╗\n",
      "  ║║║╔═╗║╚╗╔╗║     ║║╚╝║║║╔═╗║\n",
      "  ║║║╚══╗ ║║║║     ║╔╗╔╗║║╚═╝║\n",
      "╔╗║║╚══╗║ ║║║║╔═══╗║║║║║║║╔══╝\n",
      "║╚╝║║╚═╝║╔╝╚╝║╚═══╝║║║║║║║║\n",
      "╚══╝╚═══╝╚═══╝     ╚╝╚╝╚╝╚╝\n",
      "\n",
      "Joint Service Deployment - Manager Placement\n",
      "Author: @1995parham (M.Sc. Thesis Summer 2019) with @bahador-bakhshi\n",
      "            \n",
      "load configuration takes 0.27080655097961426 seconds\n",
      "\n",
      "********************* run 1 **********************\n",
      "\n",
      "rari solution takes 91.73290252685547 seconds\n",
      "Placement has profit: 49800 and cost: 4500\n",
      "100 has been placed successfully from 100\n",
      "\n",
      "********************* run 2 **********************\n",
      "\n",
      "rari solution takes 89.10715532302856 seconds\n",
      "Placement has profit: 49800 and cost: 4400\n",
      "100 has been placed successfully from 100\n",
      "\n",
      "********************* run 3 **********************\n",
      "\n",
      "rari solution takes 86.6230640411377 seconds\n",
      "Placement has profit: 49800 and cost: 4400\n",
      "100 has been placed successfully from 100\n",
      "\n",
      "********************* run 4 **********************\n",
      "\n",
      "rari solution takes 88.01155614852905 seconds\n",
      "Placement has profit: 49800 and cost: 4300\n",
      "100 has been placed successfully from 100\n",
      "\n",
      "********************* run 5 **********************\n",
      "\n",
      "rari solution takes 89.19604301452637 seconds\n",
      "Placement has profit: 49800 and cost: 4400\n",
      "100 has been placed successfully from 100\n",
      "\n",
      "********************* run 6 **********************\n",
      "\n",
      "rari solution takes 88.56250715255737 seconds\n",
      "Placement has profit: 49800 and cost: 4300\n",
      "100 has been placed successfully from 100\n",
      "\n",
      "********************* run 7 **********************\n",
      "\n",
      "rari solution takes 90.50461268424988 seconds\n",
      "Placement has profit: 49800 and cost: 4400\n",
      "100 has been placed successfully from 100\n",
      "\n",
      "********************* run 8 **********************\n",
      "\n",
      "rari solution takes 89.31873321533203 seconds\n",
      "Placement has profit: 49800 and cost: 4500\n",
      "100 has been placed successfully from 100\n",
      "\n",
      "********************* run 9 **********************\n",
      "\n",
      "rari solution takes 88.80832958221436 seconds\n",
      "Placement has profit: 49800 and cost: 4200\n",
      "100 has been placed successfully from 100\n",
      "\n",
      "********************* run 10 *********************\n",
      "\n",
      "rari solution takes 88.09935402870178 seconds\n",
      "Placement has profit: 49800 and cost: 4500\n",
      "100 has been placed successfully from 100\n"
     ]
    }
   ],
   "source": [
    "%run ../../jsd_mp/main.py -ss rari -c ../../config/ -r 10"
   ]
  }
 ],
 "metadata": {
  "kernelspec": {
   "display_name": "Python 3",
   "language": "python",
   "name": "python3"
  },
  "language_info": {
   "codemirror_mode": {
    "name": "ipython",
    "version": 3
   },
   "file_extension": ".py",
   "mimetype": "text/x-python",
   "name": "python",
   "nbconvert_exporter": "python",
   "pygments_lexer": "ipython3",
   "version": "3.8.5"
  }
 },
 "nbformat": 4,
 "nbformat_minor": 5
}
