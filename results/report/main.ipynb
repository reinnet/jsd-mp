{
 "cells": [
  {
   "cell_type": "markdown",
   "id": "increasing-celtic",
   "metadata": {},
   "source": [
    "# Report\n",
    "\n",
    "## Introduction\n",
    "\n",
    "In this document we are reporting the final results that compare our method, abu method and the optimal."
   ]
  },
  {
   "cell_type": "markdown",
   "id": "interim-compilation",
   "metadata": {},
   "source": [
    "## Abu Method\n",
    "\n",
    "Abu-Lebdeh describe a method based on tabu-search to improve VNFM placement on datacenter that already has VNF placement. In our work we are considering the VNF placement jointly with VNFM placement so we are going to change it to consider the placement and after that compare it with our method. In Abu-Lebdeh method there is no way to discard a chain so it can generate infeasible results so we are reserving resources for VNFM to prevent the infeasible situation."
   ]
  },
  {
   "cell_type": "markdown",
   "id": "blessed-supply",
   "metadata": {},
   "source": [
    "As we discuss with Prof. Bakhshi he want to change our reservation algorithm. Instead of reserving on each node we are reserving on random nodes."
   ]
  },
  {
   "cell_type": "markdown",
   "id": "rocky-immunology",
   "metadata": {},
   "source": [
    "We are going to start with following configuration:\n",
    "\n",
    "- Fat Tree with k = 4\n",
    "- 100 Chains"
   ]
  },
  {
   "cell_type": "markdown",
   "id": "reported-yield",
   "metadata": {},
   "source": [
    "### for 100% reservation\n",
    "- abu solution takes 102.7387068271637 seconds\n",
    "- Placement has profit: 23500 and cost: 2100\n",
    "- 46 has been placed successfully from 100"
   ]
  },
  {
   "cell_type": "markdown",
   "id": "earlier-diary",
   "metadata": {},
   "source": [
    "### for 80% reservation\n",
    "- abu solution takes 108.08455514907837 seconds\n",
    "- Placement has profit: 23700 and cost: 2100\n",
    "- 47 has been placed successfully from 100"
   ]
  },
  {
   "cell_type": "markdown",
   "id": "hazardous-genius",
   "metadata": {},
   "source": [
    "### for 60% reservation\n",
    "\n",
    "- abu solution takes 119.64389228820801 seconds\n",
    "- Placement has profit: 23800 and cost: 2100\n",
    "- 47 has been placed successfully from 100"
   ]
  },
  {
   "cell_type": "markdown",
   "id": "disciplinary-grave",
   "metadata": {},
   "source": [
    "### for 40% reservation\n",
    "\n",
    "- abu solution takes 109.58936262130737 seconds\n",
    "- Placement has profit: 24600 and cost: 2100\n",
    "- 49 has been placed successfully from 100"
   ]
  },
  {
   "cell_type": "markdown",
   "id": "patient-stations",
   "metadata": {},
   "source": [
    "### for 20% reservation\n",
    "\n",
    "- abu solution takes 114.54797577857971 seconds\n",
    "- Placement has profit: 24300 and cost: 2100\n",
    "- 48 has been placed successfully from 100"
   ]
  }
 ],
 "metadata": {
  "kernelspec": {
   "display_name": "Python 3",
   "language": "python",
   "name": "python3"
  },
  "language_info": {
   "codemirror_mode": {
    "name": "ipython",
    "version": 3
   },
   "file_extension": ".py",
   "mimetype": "text/x-python",
   "name": "python",
   "nbconvert_exporter": "python",
   "pygments_lexer": "ipython3",
   "version": "3.8.5"
  }
 },
 "nbformat": 4,
 "nbformat_minor": 5
}
