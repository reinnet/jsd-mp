{
 "cells": [
  {
   "cell_type": "markdown",
   "id": "increasing-celtic",
   "metadata": {},
   "source": [
    "# Optimized Abu, The Ultimate Solution\n",
    "\n",
    "## Introduction\n",
    "\n",
    "In this document we are reporting the final results that compare our method, abu method and the optimal."
   ]
  },
  {
   "cell_type": "markdown",
   "id": "interim-compilation",
   "metadata": {},
   "source": [
    "## Abu Method\n",
    "\n",
    "Abu-Lebdeh describe a method based on tabu-search to improve VNFM placement on datacenter that already has VNF placement. In our work we are considering the VNF placement jointly with VNFM placement so we are going to change it to consider the placement and after that compare it with our method. In Abu-Lebdeh method there is no way to discard a chain so it can generate infeasible results so we are reserving resources for VNFM to prevent the infeasible situation."
   ]
  },
  {
   "cell_type": "markdown",
   "id": "blessed-supply",
   "metadata": {},
   "source": [
    "As we discuss with Prof. Bakhshi he want to change our reservation algorithm. Instead of reserving on each node we are reserving on random nodes."
   ]
  },
  {
   "cell_type": "markdown",
   "id": "rocky-immunology",
   "metadata": {},
   "source": [
    "We are going to start with following configuration:\n",
    "\n",
    "- Fat Tree with k = 4\n",
    "- 100 Chains"
   ]
  },
  {
   "cell_type": "markdown",
   "id": "reported-yield",
   "metadata": {},
   "source": [
    "### for 100% reservation\n",
    "- abu solution takes 102.7387068271637 seconds\n",
    "- Placement has profit: 23500 and cost: 2100\n",
    "- 46 has been placed successfully from 100"
   ]
  },
  {
   "cell_type": "markdown",
   "id": "earlier-diary",
   "metadata": {},
   "source": [
    "### for 80% reservation\n",
    "- abu solution takes 108.08455514907837 seconds\n",
    "- Placement has profit: 23700 and cost: 2100\n",
    "- 47 has been placed successfully from 100"
   ]
  },
  {
   "cell_type": "markdown",
   "id": "hazardous-genius",
   "metadata": {},
   "source": [
    "### for 60% reservation\n",
    "\n",
    "- abu solution takes 119.64389228820801 seconds\n",
    "- Placement has profit: 23800 and cost: 2100\n",
    "- 47 has been placed successfully from 100"
   ]
  },
  {
   "cell_type": "markdown",
   "id": "disciplinary-grave",
   "metadata": {},
   "source": [
    "### for 40% reservation\n",
    "\n",
    "- abu solution takes 109.58936262130737 seconds\n",
    "- Placement has profit: 24600 and cost: 2100\n",
    "- 49 has been placed successfully from 100"
   ]
  },
  {
   "cell_type": "markdown",
   "id": "patient-stations",
   "metadata": {},
   "source": [
    "### for 20% reservation\n",
    "\n",
    "- abu solution takes 114.54797577857971 seconds\n",
    "- Placement has profit: 24300 and cost: 2100\n",
    "- 48 has been placed successfully from 100"
   ]
  },
  {
   "cell_type": "markdown",
   "id": "acute-nirvana",
   "metadata": {},
   "source": [
    "## Topology: FatTree (k = 6)"
   ]
  },
  {
   "cell_type": "code",
   "execution_count": 2,
   "id": "ruled-fleece",
   "metadata": {},
   "outputs": [],
   "source": [
    "%matplotlib inline\n",
    "import matplotlib.pyplot as plt\n",
    "import pandas as pd\n",
    "import numpy as np"
   ]
  },
  {
   "cell_type": "markdown",
   "id": "national-rebate",
   "metadata": {},
   "source": [
    "### Initiation\n"
   ]
  },
  {
   "cell_type": "code",
   "execution_count": 3,
   "id": "comic-emerald",
   "metadata": {},
   "outputs": [],
   "source": [
    "revenues = []\n",
    "revenues_err = []\n",
    "\n",
    "nchains = []"
   ]
  },
  {
   "cell_type": "markdown",
   "id": "incredible-measurement",
   "metadata": {},
   "source": [
    "### Chains = 130"
   ]
  },
  {
   "cell_type": "code",
   "execution_count": 4,
   "id": "stopped-header",
   "metadata": {},
   "outputs": [
    {
     "data": {
      "text/html": [
       "<div>\n",
       "<style scoped>\n",
       "    .dataframe tbody tr th:only-of-type {\n",
       "        vertical-align: middle;\n",
       "    }\n",
       "\n",
       "    .dataframe tbody tr th {\n",
       "        vertical-align: top;\n",
       "    }\n",
       "\n",
       "    .dataframe thead th {\n",
       "        text-align: right;\n",
       "    }\n",
       "</style>\n",
       "<table border=\"1\" class=\"dataframe\">\n",
       "  <thead>\n",
       "    <tr style=\"text-align: right;\">\n",
       "      <th></th>\n",
       "      <th>run</th>\n",
       "      <th>profit</th>\n",
       "      <th>cost</th>\n",
       "      <th>number_of_placed_chains</th>\n",
       "      <th>number_of_chains</th>\n",
       "      <th>solver</th>\n",
       "      <th>elapsed_time</th>\n",
       "    </tr>\n",
       "  </thead>\n",
       "  <tbody>\n",
       "    <tr>\n",
       "      <th>0</th>\n",
       "      <td>0</td>\n",
       "      <td>45100</td>\n",
       "      <td>5200</td>\n",
       "      <td>90</td>\n",
       "      <td>130</td>\n",
       "      <td>oabu</td>\n",
       "      <td>11270.848830</td>\n",
       "    </tr>\n",
       "    <tr>\n",
       "      <th>1</th>\n",
       "      <td>1</td>\n",
       "      <td>45100</td>\n",
       "      <td>5200</td>\n",
       "      <td>90</td>\n",
       "      <td>130</td>\n",
       "      <td>oabu</td>\n",
       "      <td>11275.631928</td>\n",
       "    </tr>\n",
       "    <tr>\n",
       "      <th>2</th>\n",
       "      <td>2</td>\n",
       "      <td>45100</td>\n",
       "      <td>5200</td>\n",
       "      <td>90</td>\n",
       "      <td>130</td>\n",
       "      <td>oabu</td>\n",
       "      <td>11261.680984</td>\n",
       "    </tr>\n",
       "    <tr>\n",
       "      <th>3</th>\n",
       "      <td>3</td>\n",
       "      <td>45100</td>\n",
       "      <td>5200</td>\n",
       "      <td>90</td>\n",
       "      <td>130</td>\n",
       "      <td>oabu</td>\n",
       "      <td>11282.410964</td>\n",
       "    </tr>\n",
       "    <tr>\n",
       "      <th>4</th>\n",
       "      <td>4</td>\n",
       "      <td>45100</td>\n",
       "      <td>5200</td>\n",
       "      <td>90</td>\n",
       "      <td>130</td>\n",
       "      <td>oabu</td>\n",
       "      <td>11287.131489</td>\n",
       "    </tr>\n",
       "  </tbody>\n",
       "</table>\n",
       "</div>"
      ],
      "text/plain": [
       "   run  profit  cost  number_of_placed_chains  number_of_chains solver  \\\n",
       "0    0   45100  5200                       90               130   oabu   \n",
       "1    1   45100  5200                       90               130   oabu   \n",
       "2    2   45100  5200                       90               130   oabu   \n",
       "3    3   45100  5200                       90               130   oabu   \n",
       "4    4   45100  5200                       90               130   oabu   \n",
       "\n",
       "   elapsed_time  \n",
       "0  11270.848830  \n",
       "1  11275.631928  \n",
       "2  11261.680984  \n",
       "3  11282.410964  \n",
       "4  11287.131489  "
      ]
     },
     "execution_count": 4,
     "metadata": {},
     "output_type": "execute_result"
    }
   ],
   "source": [
    "r = pd.read_csv('./optimized-abu-with-k-6-130-chains.csv')\n",
    "\n",
    "r.head()"
   ]
  },
  {
   "cell_type": "code",
   "execution_count": 15,
   "id": "hired-allowance",
   "metadata": {},
   "outputs": [],
   "source": [
    "revenue = (r['profit'] - r['cost'])\n",
    "avg = revenue.mean()\n",
    "err = revenue.std()\n",
    "\n",
    "revenues.append(avg)\n",
    "revenues_err.append(err)\n",
    "\n",
    "nchains.append(130)"
   ]
  },
  {
   "cell_type": "code",
   "execution_count": 17,
   "id": "heard-lexington",
   "metadata": {},
   "outputs": [
    {
     "data": {
      "text/html": [
       "<div>\n",
       "<style scoped>\n",
       "    .dataframe tbody tr th:only-of-type {\n",
       "        vertical-align: middle;\n",
       "    }\n",
       "\n",
       "    .dataframe tbody tr th {\n",
       "        vertical-align: top;\n",
       "    }\n",
       "\n",
       "    .dataframe thead th {\n",
       "        text-align: right;\n",
       "    }\n",
       "</style>\n",
       "<table border=\"1\" class=\"dataframe\">\n",
       "  <thead>\n",
       "    <tr style=\"text-align: right;\">\n",
       "      <th></th>\n",
       "      <th>run</th>\n",
       "      <th>profit</th>\n",
       "      <th>cost</th>\n",
       "      <th>number_of_placed_chains</th>\n",
       "      <th>number_of_chains</th>\n",
       "      <th>solver</th>\n",
       "      <th>elapsed_time</th>\n",
       "    </tr>\n",
       "  </thead>\n",
       "  <tbody>\n",
       "    <tr>\n",
       "      <th>0</th>\n",
       "      <td>0</td>\n",
       "      <td>42200</td>\n",
       "      <td>4700</td>\n",
       "      <td>85</td>\n",
       "      <td>120</td>\n",
       "      <td>oabu</td>\n",
       "      <td>10531.478125</td>\n",
       "    </tr>\n",
       "    <tr>\n",
       "      <th>1</th>\n",
       "      <td>1</td>\n",
       "      <td>42200</td>\n",
       "      <td>4700</td>\n",
       "      <td>85</td>\n",
       "      <td>120</td>\n",
       "      <td>oabu</td>\n",
       "      <td>10511.845850</td>\n",
       "    </tr>\n",
       "    <tr>\n",
       "      <th>2</th>\n",
       "      <td>2</td>\n",
       "      <td>42200</td>\n",
       "      <td>4700</td>\n",
       "      <td>85</td>\n",
       "      <td>120</td>\n",
       "      <td>oabu</td>\n",
       "      <td>10505.781724</td>\n",
       "    </tr>\n",
       "    <tr>\n",
       "      <th>3</th>\n",
       "      <td>3</td>\n",
       "      <td>42200</td>\n",
       "      <td>4700</td>\n",
       "      <td>85</td>\n",
       "      <td>120</td>\n",
       "      <td>oabu</td>\n",
       "      <td>10521.495156</td>\n",
       "    </tr>\n",
       "    <tr>\n",
       "      <th>4</th>\n",
       "      <td>4</td>\n",
       "      <td>42200</td>\n",
       "      <td>4700</td>\n",
       "      <td>85</td>\n",
       "      <td>120</td>\n",
       "      <td>oabu</td>\n",
       "      <td>10520.187441</td>\n",
       "    </tr>\n",
       "  </tbody>\n",
       "</table>\n",
       "</div>"
      ],
      "text/plain": [
       "   run  profit  cost  number_of_placed_chains  number_of_chains solver  \\\n",
       "0    0   42200  4700                       85               120   oabu   \n",
       "1    1   42200  4700                       85               120   oabu   \n",
       "2    2   42200  4700                       85               120   oabu   \n",
       "3    3   42200  4700                       85               120   oabu   \n",
       "4    4   42200  4700                       85               120   oabu   \n",
       "\n",
       "   elapsed_time  \n",
       "0  10531.478125  \n",
       "1  10511.845850  \n",
       "2  10505.781724  \n",
       "3  10521.495156  \n",
       "4  10520.187441  "
      ]
     },
     "execution_count": 17,
     "metadata": {},
     "output_type": "execute_result"
    }
   ],
   "source": [
    "r = pd.read_csv('./optimized-abu-with-k-6-120-chains.csv')\n",
    "\n",
    "r.head()"
   ]
  },
  {
   "cell_type": "code",
   "execution_count": 18,
   "id": "scenic-scotland",
   "metadata": {},
   "outputs": [],
   "source": [
    "revenue = (r['profit'] - r['cost'])\n",
    "avg = revenue.mean()\n",
    "err = revenue.std()\n",
    "\n",
    "revenues.append(avg)\n",
    "revenues_err.append(err)\n",
    "\n",
    "nchains.append(120)"
   ]
  },
  {
   "cell_type": "code",
   "execution_count": 19,
   "id": "behind-combination",
   "metadata": {},
   "outputs": [
    {
     "data": {
      "text/html": [
       "<div>\n",
       "<style scoped>\n",
       "    .dataframe tbody tr th:only-of-type {\n",
       "        vertical-align: middle;\n",
       "    }\n",
       "\n",
       "    .dataframe tbody tr th {\n",
       "        vertical-align: top;\n",
       "    }\n",
       "\n",
       "    .dataframe thead th {\n",
       "        text-align: right;\n",
       "    }\n",
       "</style>\n",
       "<table border=\"1\" class=\"dataframe\">\n",
       "  <thead>\n",
       "    <tr style=\"text-align: right;\">\n",
       "      <th></th>\n",
       "      <th>run</th>\n",
       "      <th>profit</th>\n",
       "      <th>cost</th>\n",
       "      <th>number_of_placed_chains</th>\n",
       "      <th>number_of_chains</th>\n",
       "      <th>solver</th>\n",
       "      <th>elapsed_time</th>\n",
       "    </tr>\n",
       "  </thead>\n",
       "  <tbody>\n",
       "    <tr>\n",
       "      <th>0</th>\n",
       "      <td>0</td>\n",
       "      <td>38000</td>\n",
       "      <td>4000</td>\n",
       "      <td>77</td>\n",
       "      <td>110</td>\n",
       "      <td>oabu</td>\n",
       "      <td>9866.033090</td>\n",
       "    </tr>\n",
       "    <tr>\n",
       "      <th>1</th>\n",
       "      <td>1</td>\n",
       "      <td>38000</td>\n",
       "      <td>4000</td>\n",
       "      <td>77</td>\n",
       "      <td>110</td>\n",
       "      <td>oabu</td>\n",
       "      <td>9863.393075</td>\n",
       "    </tr>\n",
       "    <tr>\n",
       "      <th>2</th>\n",
       "      <td>2</td>\n",
       "      <td>38000</td>\n",
       "      <td>4000</td>\n",
       "      <td>77</td>\n",
       "      <td>110</td>\n",
       "      <td>oabu</td>\n",
       "      <td>9864.702731</td>\n",
       "    </tr>\n",
       "    <tr>\n",
       "      <th>3</th>\n",
       "      <td>3</td>\n",
       "      <td>38000</td>\n",
       "      <td>4000</td>\n",
       "      <td>77</td>\n",
       "      <td>110</td>\n",
       "      <td>oabu</td>\n",
       "      <td>9866.911835</td>\n",
       "    </tr>\n",
       "    <tr>\n",
       "      <th>4</th>\n",
       "      <td>4</td>\n",
       "      <td>38000</td>\n",
       "      <td>4000</td>\n",
       "      <td>77</td>\n",
       "      <td>110</td>\n",
       "      <td>oabu</td>\n",
       "      <td>9858.916413</td>\n",
       "    </tr>\n",
       "  </tbody>\n",
       "</table>\n",
       "</div>"
      ],
      "text/plain": [
       "   run  profit  cost  number_of_placed_chains  number_of_chains solver  \\\n",
       "0    0   38000  4000                       77               110   oabu   \n",
       "1    1   38000  4000                       77               110   oabu   \n",
       "2    2   38000  4000                       77               110   oabu   \n",
       "3    3   38000  4000                       77               110   oabu   \n",
       "4    4   38000  4000                       77               110   oabu   \n",
       "\n",
       "   elapsed_time  \n",
       "0   9866.033090  \n",
       "1   9863.393075  \n",
       "2   9864.702731  \n",
       "3   9866.911835  \n",
       "4   9858.916413  "
      ]
     },
     "execution_count": 19,
     "metadata": {},
     "output_type": "execute_result"
    }
   ],
   "source": [
    "r = pd.read_csv('./optimized-abu-with-k-6-110-chains.csv')\n",
    "\n",
    "r.head()"
   ]
  },
  {
   "cell_type": "code",
   "execution_count": 20,
   "id": "consistent-vietnam",
   "metadata": {},
   "outputs": [],
   "source": [
    "revenue = (r['profit'] - r['cost'])\n",
    "avg = revenue.mean()\n",
    "err = revenue.std()\n",
    "\n",
    "revenues.append(avg)\n",
    "revenues_err.append(err)\n",
    "\n",
    "nchains.append(110)"
   ]
  },
  {
   "cell_type": "code",
   "execution_count": 21,
   "id": "natural-trick",
   "metadata": {},
   "outputs": [
    {
     "data": {
      "text/html": [
       "<div>\n",
       "<style scoped>\n",
       "    .dataframe tbody tr th:only-of-type {\n",
       "        vertical-align: middle;\n",
       "    }\n",
       "\n",
       "    .dataframe tbody tr th {\n",
       "        vertical-align: top;\n",
       "    }\n",
       "\n",
       "    .dataframe thead th {\n",
       "        text-align: right;\n",
       "    }\n",
       "</style>\n",
       "<table border=\"1\" class=\"dataframe\">\n",
       "  <thead>\n",
       "    <tr style=\"text-align: right;\">\n",
       "      <th></th>\n",
       "      <th>run</th>\n",
       "      <th>profit</th>\n",
       "      <th>cost</th>\n",
       "      <th>number_of_placed_chains</th>\n",
       "      <th>number_of_chains</th>\n",
       "      <th>solver</th>\n",
       "      <th>elapsed_time</th>\n",
       "    </tr>\n",
       "  </thead>\n",
       "  <tbody>\n",
       "    <tr>\n",
       "      <th>0</th>\n",
       "      <td>0</td>\n",
       "      <td>34200</td>\n",
       "      <td>3800</td>\n",
       "      <td>72</td>\n",
       "      <td>100</td>\n",
       "      <td>oabu</td>\n",
       "      <td>9130.844207</td>\n",
       "    </tr>\n",
       "    <tr>\n",
       "      <th>1</th>\n",
       "      <td>1</td>\n",
       "      <td>34200</td>\n",
       "      <td>3800</td>\n",
       "      <td>72</td>\n",
       "      <td>100</td>\n",
       "      <td>oabu</td>\n",
       "      <td>9107.236540</td>\n",
       "    </tr>\n",
       "    <tr>\n",
       "      <th>2</th>\n",
       "      <td>2</td>\n",
       "      <td>34200</td>\n",
       "      <td>3800</td>\n",
       "      <td>72</td>\n",
       "      <td>100</td>\n",
       "      <td>oabu</td>\n",
       "      <td>9124.560269</td>\n",
       "    </tr>\n",
       "    <tr>\n",
       "      <th>3</th>\n",
       "      <td>3</td>\n",
       "      <td>34200</td>\n",
       "      <td>3800</td>\n",
       "      <td>72</td>\n",
       "      <td>100</td>\n",
       "      <td>oabu</td>\n",
       "      <td>9107.363144</td>\n",
       "    </tr>\n",
       "    <tr>\n",
       "      <th>4</th>\n",
       "      <td>4</td>\n",
       "      <td>34200</td>\n",
       "      <td>3800</td>\n",
       "      <td>72</td>\n",
       "      <td>100</td>\n",
       "      <td>oabu</td>\n",
       "      <td>9116.748662</td>\n",
       "    </tr>\n",
       "  </tbody>\n",
       "</table>\n",
       "</div>"
      ],
      "text/plain": [
       "   run  profit  cost  number_of_placed_chains  number_of_chains solver  \\\n",
       "0    0   34200  3800                       72               100   oabu   \n",
       "1    1   34200  3800                       72               100   oabu   \n",
       "2    2   34200  3800                       72               100   oabu   \n",
       "3    3   34200  3800                       72               100   oabu   \n",
       "4    4   34200  3800                       72               100   oabu   \n",
       "\n",
       "   elapsed_time  \n",
       "0   9130.844207  \n",
       "1   9107.236540  \n",
       "2   9124.560269  \n",
       "3   9107.363144  \n",
       "4   9116.748662  "
      ]
     },
     "execution_count": 21,
     "metadata": {},
     "output_type": "execute_result"
    }
   ],
   "source": [
    "r = pd.read_csv('./optimized-abu-with-k-6-100-chains.csv')\n",
    "\n",
    "r.head()"
   ]
  },
  {
   "cell_type": "code",
   "execution_count": 22,
   "id": "coordinated-flour",
   "metadata": {},
   "outputs": [],
   "source": [
    "revenue = (r['profit'] - r['cost'])\n",
    "avg = revenue.mean()\n",
    "err = revenue.std()\n",
    "\n",
    "revenues.append(avg)\n",
    "revenues_err.append(err)\n",
    "\n",
    "nchains.append(100)"
   ]
  },
  {
   "cell_type": "code",
   "execution_count": 23,
   "id": "complicated-remains",
   "metadata": {},
   "outputs": [
    {
     "data": {
      "text/plain": [
       "<matplotlib.legend.Legend at 0x7f0cb24b8160>"
      ]
     },
     "execution_count": 23,
     "metadata": {},
     "output_type": "execute_result"
    },
    {
     "data": {
      "image/png": "[encoded data removed]",
      "text/plain": [
       "<Figure size 1080x1080 with 1 Axes>"
      ]
     },
     "metadata": {
      "needs_background": "light"
     },
     "output_type": "display_data"
    }
   ],
   "source": [
    "_, ax = plt.subplots(figsize=(15, 15))\n",
    "\n",
    "ax.errorbar(x=nchains, y=revenues, fmt='r--', label='masman', yerr=revenues_err)\n",
    "\n",
    "ax.set_title('FatTree')\n",
    "ax.set(ylabel='Revenue', xlabel='Chains')\n",
    "ax.legend()"
   ]
  }
 ],
 "metadata": {
  "kernelspec": {
   "display_name": "jsd-mp-krnl",
   "language": "python",
   "name": "jsd-mp-krnl"
  },
  "language_info": {
   "codemirror_mode": {
    "name": "ipython",
    "version": 3
   },
   "file_extension": ".py",
   "mimetype": "text/x-python",
   "name": "python",
   "nbconvert_exporter": "python",
   "pygments_lexer": "ipython3",
   "version": "3.8.5"
  }
 },
 "nbformat": 4,
 "nbformat_minor": 5
}
