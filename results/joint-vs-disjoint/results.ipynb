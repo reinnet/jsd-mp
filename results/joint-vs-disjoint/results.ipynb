{
 "cells": [
  {
   "cell_type": "markdown",
   "metadata": {},
   "source": [
    "# Joint vs Disjoint\n",
    "\n",
    "Here we want to see the results of joint porblem vs disjoint in the way that we consider management resources.\n",
    "As you can see by considering the management resources in the chain placement phase can generate\n",
    "better results and it confirms our hypothesis."
   ]
  },
  {
   "cell_type": "code",
   "execution_count": 1,
   "metadata": {},
   "outputs": [],
   "source": [
    "%matplotlib inline\n",
    "import matplotlib.pyplot as plt\n",
    "import pandas as pd\n",
    "import numpy as np"
   ]
  },
  {
   "cell_type": "markdown",
   "metadata": {},
   "source": [
    "In all simulations we use the following configuration for chains:\n",
    "\n",
    "| Property          | Value        |\n",
    "|:----------------- |:------------:|\n",
    "| Length            | \\[4, 7\\)     |\n",
    "| Per Instance Cost | 100\\$        |\n",
    "| Bandwidth         | 250 bps      |\n",
    "\n",
    "Please note that customers pay the instance cost so it would be profit in the eye of datacenter owner.\n",
    "\n",
    "\n",
    "Following VNF types are availabe to customers for placing in their service chains.\n",
    "\n",
    "```yml\n",
    "---\n",
    "types:\n",
    "  - name: ingress\n",
    "    cores: 0\n",
    "    ram: 0\n",
    "    ingress: true\n",
    "    manageable: false\n",
    "  - name: egress\n",
    "    cores: 0\n",
    "    ram: 0\n",
    "    egress: true\n",
    "    manageable: false\n",
    "  - name: vFW\n",
    "    cores: 2\n",
    "    ram: 2\n",
    "    manageable: true\n",
    "  - name: vNAT\n",
    "    cores: 2\n",
    "    ram: 4\n",
    "    manageable: true\n",
    "  - name: vIDS\n",
    "    cores: 2\n",
    "    ram: 2\n",
    "    manageable: true\n",
    "  - name: vDPI\n",
    "    cores: 2\n",
    "    ram: 4\n",
    "    manageable: true\n",
    "```"
   ]
  },
  {
   "cell_type": "markdown",
   "metadata": {},
   "source": [
    "## Topology: FatTree (k = 6)"
   ]
  },
  {
   "cell_type": "markdown",
   "metadata": {},
   "source": [
    "### Initiation"
   ]
  },
  {
   "cell_type": "code",
   "execution_count": 2,
   "metadata": {},
   "outputs": [],
   "source": [
    "jrevenues = []\n",
    "jrevenues_err = []\n",
    "\n",
    "drevenues = []\n",
    "drevenues_err = []\n",
    "\n",
    "nchains = []"
   ]
  },
  {
   "cell_type": "markdown",
   "metadata": {},
   "source": [
    "### Chains = 130"
   ]
  },
  {
   "cell_type": "code",
   "execution_count": 3,
   "metadata": {},
   "outputs": [],
   "source": [
    "joint_130 = pd.DataFrame(data={\n",
    "    'revenue': [59900.0, 57300.0, 59400.0, 58600.0, 59600.0, 61000.0, 59300.0, 58500.0, 59000.0, 59900.0, 60900.0, 60500.0, 59000.0, 59400.0, 58100.0],\n",
    "    'accepted_chains': [130, 130, 130, 130, 130, 130, 130, 130, 130, 130, 130, 130, 130, 130, 130],\n",
    "    'vnfm': [56, 53, 55, 56, 56, 57, 56, 56, 55, 56, 57, 58, 55, 55, 56],\n",
    "})\n",
    "\n",
    "disjoint_130 = pd.DataFrame(data={\n",
    "    'revenue': [58600.0, 56700.0, 58100.0, 58500.0, 58900.0, 61300.0, 59700.0, 58500.0, 58300.0, 60200.0, 58700.0, 60600.0, 58800.0, 57800.0, 56100.0],\n",
    "    'accepted_chains': [127, 128, 127, 129, 128, 130, 130, 129, 128, 130, 125, 129, 129, 126, 125],\n",
    "    'vnfm': [52, 49, 51, 51, 52, 54, 52, 51, 51, 53, 52, 53, 51, 51, 49],\n",
    "})\n",
    "\n",
    "jrevenues.append(np.average(joint_130['revenue'].values))\n",
    "jrevenues_err.append(np.std(joint_130['revenue'].values))\n",
    "\n",
    "drevenues.append(np.average(disjoint_130['revenue'].values))\n",
    "drevenues_err.append(np.std(disjoint_130['revenue'].values))\n",
    "\n",
    "nchains.append(130)"
   ]
  },
  {
   "cell_type": "markdown",
   "metadata": {},
   "source": [
    "### Chains = 120"
   ]
  },
  {
   "cell_type": "code",
   "execution_count": 4,
   "metadata": {},
   "outputs": [],
   "source": [
    "joint_120 = pd.DataFrame(data={\n",
    "    'revenue': [54900.0, 54300.0, 54500.0, 55600.0, 54400.0, 54300.0, 54200.0, 54900.0, 55300.0, 55100.0, 53500.0, 55700.0, 55300.0, 54500.0, 54100.0],\n",
    "    'accepted_chains': [120, 120, 120, 120, 120, 120, 120, 120, 120, 120, 120, 120, 120, 120, 120],\n",
    "    'vnfm': [50, 50, 51, 52, 51, 50, 51, 50, 51, 51, 49, 52, 51, 51, 49],\n",
    "})\n",
    "\n",
    "disjoint_120 = pd.DataFrame(data={\n",
    "    'revenue': [53900.0, 53800.0, 53200.0, 54800.0, 54000.0, 54200.0, 54500.0, 53700.0, 55000.0, 54800.0, 53700.0, 56000.0, 54400.0, 53900.0, 53800.0],\n",
    "    'accepted_chains': [117, 118, 117, 118, 118, 119, 120, 117, 119, 119, 120, 120, 118, 118, 119],\n",
    "    'vnfm': [47, 47, 47, 48, 47, 47, 48, 47, 48, 48, 47, 49, 48, 47, 47],\n",
    "})\n",
    "\n",
    "jrevenues.append(np.average(joint_120['revenue'].values))\n",
    "jrevenues_err.append(np.std(joint_120['revenue'].values))\n",
    "\n",
    "drevenues.append(np.average(disjoint_120['revenue'].values))\n",
    "drevenues_err.append(np.std(disjoint_120['revenue'].values))\n",
    "\n",
    "nchains.append(120)"
   ]
  },
  {
   "cell_type": "markdown",
   "metadata": {},
   "source": [
    "### Chains = 110"
   ]
  },
  {
   "cell_type": "code",
   "execution_count": 5,
   "metadata": {},
   "outputs": [],
   "source": [
    "joint_110 = pd.DataFrame(data={\n",
    "    'revenue': [49700.0, 50400.0, 50800.0, 51100.0, 50800.0, 50300.0, 49300.0, 52100.0, 48700.0, 51400.0, 49800.0, 49400.0, 50000.0, 50800.0, 49500.0],\n",
    "    'accepted_chains': [110, 110, 110, 110, 110, 110, 110, 110, 110, 110, 110, 110, 110, 110, 110],\n",
    "    'vnfm': [46, 47, 49, 48, 47, 47, 45, 50, 45, 49, 47, 46, 48, 48, 46],\n",
    "})\n",
    "\n",
    "disjoint_110 = pd.DataFrame(data={\n",
    "    'revenue': [49400.0, 49700.0, 50600.0, 50800.0, 50600.0, 50000.0, 48500.0, 52400.0, 48900.0, 51200.0, 49000.0, 49100.0, 49900.0, 50700.0, 48700.0],\n",
    "    'accepted_chains': [109, 108, 109, 109, 109, 109, 108, 110, 110, 109, 108, 109, 109, 109, 108],\n",
    "    'vnfm': [43, 44, 45, 45, 45, 44, 42, 47, 43, 45, 43, 43, 44, 45, 43],\n",
    "})\n",
    "\n",
    "jrevenues.append(np.average(joint_110['revenue'].values))\n",
    "jrevenues_err.append(np.std(joint_110['revenue'].values))\n",
    "\n",
    "drevenues.append(np.average(disjoint_110['revenue'].values))\n",
    "drevenues_err.append(np.std(disjoint_110['revenue'].values))\n",
    "\n",
    "nchains.append(110)"
   ]
  },
  {
   "cell_type": "markdown",
   "metadata": {},
   "source": [
    "### Chains = 100"
   ]
  },
  {
   "cell_type": "code",
   "execution_count": 6,
   "metadata": {},
   "outputs": [],
   "source": [
    "joint_100 = pd.DataFrame(data={\n",
    "    'revenue': [45000, 45700, 45900, 45100, 44600, 46100, 45000, 45700, 45900, 45400],\n",
    "    'accepted_chains': [100, 100, 100, 100, 100, 100, 100, 100, 100, 100],\n",
    "    'vnfm': [41, 41, 42, 42, 40, 40, 43, 41, 42, 42],\n",
    "})\n",
    "\n",
    "disjoint_100 = pd.DataFrame(data={\n",
    "    'revenue': [44200, 45400, 45500, 45000, 44300, 45200, 44600, 45900, 44700, 45000],\n",
    "    'accepted_chains': [98, 99, 99, 99, 99, 98, 99, 100, 97, 99],\n",
    "    'vnfm': [39, 40, 40, 39, 39, 40, 39, 40, 39, 40],\n",
    "})\n",
    "\n",
    "jrevenues.append(np.average(joint_100['revenue'].values))\n",
    "jrevenues_err.append(np.std(joint_100['revenue'].values))\n",
    "\n",
    "drevenues.append(np.average(disjoint_100['revenue'].values))\n",
    "drevenues_err.append(np.std(disjoint_100['revenue'].values))\n",
    "\n",
    "nchains.append(100)"
   ]
  },
  {
   "cell_type": "markdown",
   "metadata": {},
   "source": [
    "### Chains = 90"
   ]
  },
  {
   "cell_type": "code",
   "execution_count": 7,
   "metadata": {},
   "outputs": [],
   "source": [
    "joint_90 = pd.DataFrame(data={\n",
    "    'revenue': [40600.0, 40900.0, 39800.0, 42000.0, 41400.0, 41600.0, 40600.0, 41100.0, 41100.0, 40600.0, 41600.0, 41400.0, 42300.0, 41600.0, 41300.0],\n",
    "    'accepted_chains': [90, 90, 90, 90, 90, 90, 90, 90, 90, 90, 90, 90, 90, 90, 90],\n",
    "    'vnfm': [38, 38, 36, 39, 38, 39, 38, 38, 38, 37, 38, 38, 40, 38, 38],\n",
    "})\n",
    "\n",
    "disjoint_90 = pd.DataFrame(data={\n",
    "    'revenue': [40800.0, 16900.0, 14300.0, 40900.0, 15500.0, 40300.0, 39800.0, 17200.0, 41300.0, 17500.0, 18300.0, 15600.0, 42500.0, 40800.0, 40900.0],\n",
    "    'accepted_chains': [90, 39, 33, 87, 34, 87, 88, 39, 90, 41, 41, 36, 90, 88, 89],\n",
    "    'vnfm': [36, 15, 13, 36, 14, 36, 35, 15, 36, 15, 16, 14, 38, 36, 36],\n",
    "})\n",
    "\n",
    "jrevenues.append(np.average(joint_90['revenue'].values))\n",
    "jrevenues_err.append(np.std(joint_90['revenue'].values))\n",
    "\n",
    "drevenues.append(np.average(disjoint_90['revenue'].values))\n",
    "drevenues_err.append(np.std(disjoint_90['revenue'].values))\n",
    "\n",
    "nchains.append(90)"
   ]
  },
  {
   "cell_type": "markdown",
   "metadata": {},
   "source": [
    "### Chains = 80"
   ]
  },
  {
   "cell_type": "code",
   "execution_count": 8,
   "metadata": {},
   "outputs": [],
   "source": [
    "joint_80 = pd.DataFrame(data={\n",
    "    'revenue': [37100, 36500, 37400, 35700, 37800, 37200, 35700, 36000, 36300, 36900],\n",
    "    'accepted_chains': [80, 80, 80, 80, 80, 80, 80, 80, 80, 80],\n",
    "    'vnfm': [34, 33, 35, 32, 35, 35, 32, 33, 33, 34],\n",
    "})\n",
    "\n",
    "disjoint_80 = pd.DataFrame(data={\n",
    "    'revenue': [10300, 35100, 12900, 14000, 10600, 14700, 31900, 14200, 13000, 14200],\n",
    "    'accepted_chains': [24, 77, 29, 33, 24, 32, 72, 32, 30, 32],\n",
    "    'vnfm': [10, 31, 12, 12, 10, 14, 28, 13, 12, 13],\n",
    "})\n",
    "\n",
    "jrevenues.append(np.average(joint_80['revenue'].values))\n",
    "jrevenues_err.append(np.std(joint_80['revenue'].values))\n",
    "\n",
    "drevenues.append(np.average(disjoint_80['revenue'].values))\n",
    "drevenues_err.append(np.std(disjoint_80['revenue'].values))\n",
    "\n",
    "nchains.append(80)"
   ]
  },
  {
   "cell_type": "markdown",
   "metadata": {},
   "source": [
    "### Chains = 60"
   ]
  },
  {
   "cell_type": "code",
   "execution_count": 9,
   "metadata": {},
   "outputs": [],
   "source": [
    "joint_60 = pd.DataFrame(data={\n",
    "    'revenue': [27300, 29100, 26900, 27700, 28200, 27300, 27600, 28800, 27300, 28300],\n",
    "    'accepted_chains': [60, 60, 60, 60, 60, 60, 60, 60, 60, 60],\n",
    "    'vnfm': [24, 26, 25, 25, 25, 25, 25, 26, 25, 26],\n",
    "})\n",
    "\n",
    "disjoint_60 = pd.DataFrame(data={\n",
    "    'revenue': [11500, 9100, 8800, 13000, 10700, 27400, 27100, 7300, 8800, 9700],\n",
    "    'accepted_chains': [27, 21, 20, 28, 24, 60, 59, 16, 20, 22],\n",
    "    'vnfm': [10, 8, 9, 12, 10, 24, 24, 7, 8, 10],\n",
    "})\n",
    "\n",
    "jrevenues.append(np.average(joint_60['revenue'].values))\n",
    "jrevenues_err.append(np.std(joint_60['revenue'].values))\n",
    "\n",
    "drevenues.append(np.average(disjoint_60['revenue'].values))\n",
    "drevenues_err.append(np.std(disjoint_60['revenue'].values))\n",
    "\n",
    "nchains.append(60)"
   ]
  },
  {
   "cell_type": "markdown",
   "metadata": {},
   "source": [
    "### Chains = 40"
   ]
  },
  {
   "cell_type": "code",
   "execution_count": 10,
   "metadata": {},
   "outputs": [],
   "source": [
    "joint_40 = pd.DataFrame(data={\n",
    "    'revenue': [17500, 18300, 18200, 19300, 18300, 19400, 17900, 19200, 17300, 18000],\n",
    "    'accepted_chains': [40, 40, 40, 40, 40, 40, 40, 40, 40, 40],\n",
    "    'vnfm': [15, 16, 16, 17, 16, 18, 16, 17, 15, 16],\n",
    "})\n",
    "\n",
    "disjoint_40 = pd.DataFrame(data={\n",
    "    'revenue': [12100, 8400, 16000, 10600, 12600, 16500, 14400, 15100, 13700, 15000],\n",
    "    'accepted_chains': [28, 19, 35, 22, 27, 34, 32, 32, 32, 34],\n",
    "    'vnfm': [11, 8, 14, 10, 11, 15, 13, 14, 12, 13],\n",
    "})\n",
    "\n",
    "jrevenues.append(np.average(joint_40['revenue'].values))\n",
    "jrevenues_err.append(np.std(joint_40['revenue'].values))\n",
    "\n",
    "drevenues.append(np.average(disjoint_40['revenue'].values))\n",
    "drevenues_err.append(np.std(disjoint_40['revenue'].values))\n",
    "\n",
    "nchains.append(40)"
   ]
  },
  {
   "cell_type": "markdown",
   "metadata": {},
   "source": [
    "### Chains = 20"
   ]
  },
  {
   "cell_type": "code",
   "execution_count": 11,
   "metadata": {},
   "outputs": [],
   "source": [
    "joint_20 = pd.DataFrame(data={\n",
    "    'revenue': [8000, 9400, 8900, 9500, 9400, 9200, 9600, 9600, 9200, 8900],\n",
    "    'accepted_chains': [20, 20, 20, 20, 20, 20, 20, 20, 20, 20],\n",
    "    'vnfm': [8, 8, 8, 9, 9, 9, 9, 9, 8, 8],\n",
    "})\n",
    "\n",
    "disjoint_20 = pd.DataFrame(data={\n",
    "    'revenue': [1100, 700, 1500, 2000, 2600, 2200, 3400, 1200, 2600, 1500],\n",
    "    'accepted_chains': [3, 2, 4, 5, 6, 5, 8, 3, 6, 4],\n",
    "    'vnfm': [1, 0, 1, 1, 2, 3, 4, 0, 3, 2],\n",
    "})\n",
    "\n",
    "jrevenues.append(np.average(joint_20['revenue'].values))\n",
    "jrevenues_err.append(np.std(joint_20['revenue'].values))\n",
    "\n",
    "drevenues.append(np.average(disjoint_20['revenue'].values))\n",
    "drevenues_err.append(np.std(disjoint_20['revenue'].values))\n",
    "\n",
    "nchains.append(20)"
   ]
  },
  {
   "cell_type": "code",
   "execution_count": 12,
   "metadata": {},
   "outputs": [
    {
     "data": {
      "text/plain": [
       "<matplotlib.legend.Legend at 0x7f10826f2190>"
      ]
     },
     "execution_count": 12,
     "metadata": {},
     "output_type": "execute_result"
    },
    {
     "data": {
      "image/png": "[encoded data removed]",
      "text/plain": [
       "<Figure size 1080x1080 with 1 Axes>"
      ]
     },
     "metadata": {
      "needs_background": "light"
     },
     "output_type": "display_data"
    }
   ],
   "source": [
    "_, ax = plt.subplots(figsize=(15, 15))\n",
    "\n",
    "ax.errorbar(x=nchains, y=jrevenues, fmt='r--', label='joint', yerr=jrevenues_err)\n",
    "ax.errorbar(x=nchains, y=drevenues, fmt='b--', label='disjoint', yerr=drevenues_err)\n",
    "\n",
    "ax.set_title('FatTree')\n",
    "ax.set(ylabel='Revenue', xlabel='Chains')\n",
    "ax.legend()"
   ]
  },
  {
   "cell_type": "code",
   "execution_count": 13,
   "metadata": {},
   "outputs": [
    {
     "name": "stdout",
     "output_type": "stream",
     "text": [
      "\\begin{tabular}{lrrr}\n",
      "\\toprule\n",
      "{} &         joint &      disjoint &  nchains \\\\\n",
      "\\midrule\n",
      "0 &  59360.000000 &  58720.000000 &      130 \\\\\n",
      "1 &  54706.666667 &  54246.666667 &      120 \\\\\n",
      "2 &  50273.333333 &  49966.666667 &      110 \\\\\n",
      "3 &  45440.000000 &  44980.000000 &      100 \\\\\n",
      "4 &  41193.333333 &  29506.666667 &       90 \\\\\n",
      "5 &  36660.000000 &  17090.000000 &       80 \\\\\n",
      "6 &  27850.000000 &  13340.000000 &       60 \\\\\n",
      "7 &  18340.000000 &  13440.000000 &       40 \\\\\n",
      "8 &   9170.000000 &   1880.000000 &       20 \\\\\n",
      "\\bottomrule\n",
      "\\end{tabular}\n",
      "\n"
     ]
    }
   ],
   "source": [
    "revenue = pd.DataFrame(data={\n",
    "    \"joint\": jrevenues,\n",
    "    \"disjoint\": drevenues,\n",
    "    \"nchains\": nchains,\n",
    "})\n",
    "\n",
    "print(revenue.to_latex())"
   ]
  },
  {
   "cell_type": "markdown",
   "metadata": {},
   "source": [
    "### Conclusion\n",
    "Based on the above results, we conclude that we must re-run simulations from ten chains to 90 chains five to five to show the gap between joint and disjoint solutions clearly."
   ]
  },
  {
   "cell_type": "markdown",
   "metadata": {},
   "source": [
    "Base on what we learned from the previous experiments, we start a new trial that contains the gap values too, and a 5% gap will limit runs."
   ]
  },
  {
   "cell_type": "markdown",
   "metadata": {},
   "source": [
    "### Initiation"
   ]
  },
  {
   "cell_type": "code",
   "execution_count": 14,
   "metadata": {},
   "outputs": [],
   "source": [
    "jrevenues = []\n",
    "jrevenues_err = []\n",
    "jgaps = []\n",
    "\n",
    "drevenues = []\n",
    "drevenues_err = []\n",
    "dgaps = []\n",
    "\n",
    "nchains = []"
   ]
  },
  {
   "cell_type": "markdown",
   "metadata": {},
   "source": [
    "### Chains = 10"
   ]
  },
  {
   "cell_type": "code",
   "execution_count": 15,
   "metadata": {},
   "outputs": [],
   "source": [
    "joint = pd.DataFrame(data={\n",
    "    'revenue': [4400.0, 4200.0, 4200.0, 4600.0, 4700.0, 4700.0, 4300.0, 4400.0, 4400.0, 4200.0, 4400.0, 4600.0, 4800.0, 4500.0, 4400.0],\n",
    "    'gap': [0.024999999999999432, 0.030952380952380214, 0.030952380952380214, 0.0, 0.0, 0.03617021276595668, 0.027906976744185397, 0.024999999999999432, 0.0, 0.030952380952380214, 0.04545454545454442, 0.0, 0.03333333333333264, 0.04222222222222129, 0.024999999999999432],\n",
    "    'accepted_chains': [10, 10, 10, 10, 10, 10, 10, 10, 10, 10, 10, 10, 10, 10, 10],\n",
    "    'vnfm': [5, 5, 5, 5, 5, 6, 5, 5, 4, 5, 6, 5, 6, 6, 5]\n",
    "})\n",
    "\n",
    "disjoint = pd.DataFrame(data={\n",
    "    'revenue': [3500.0, 2400.0, 3800.0, 1500.0, 400.0, 0.0, 3900.0, 3900.0, 1000.0, 300.0, 800.0, 3700.0, 300.0, 1600.0, 1600.0],\n",
    "    'gap': [0.028571428571427755, 0.0, 0.0, 0.0, 0.0, 0.0, 0.0, 0.025641025641024866, 0.0, 0.0, 0.0, 0.0, 0.0, 0.0, 0.0],\n",
    "    'accepted_chains': [8, 6, 9, 4, 1, 0, 9, 9, 3, 1, 2, 8, 1, 4, 4],\n",
    "    'vnfm': [5, 3, 4, 1, 0, 0, 4, 5, 0, 0, 1, 4, 0, 2, 3]\n",
    "})\n",
    "\n",
    "jrevenues.append(np.average(joint['revenue'].values))\n",
    "jrevenues_err.append(np.std(joint['revenue'].values))\n",
    "jgaps.append(np.average(joint['gap'].values))\n",
    "\n",
    "drevenues.append(np.average(disjoint['revenue'].values))\n",
    "drevenues_err.append(np.std(disjoint['revenue'].values))\n",
    "dgaps.append(np.average(disjoint['gap'].values))\n",
    "\n",
    "nchains.append(10)"
   ]
  },
  {
   "cell_type": "markdown",
   "metadata": {},
   "source": [
    "### Chains = 15"
   ]
  },
  {
   "cell_type": "code",
   "execution_count": 16,
   "metadata": {},
   "outputs": [],
   "source": [
    "joint = pd.DataFrame(data={\n",
    "    'revenue': [6700.0, 7300.0, 6500.0, 6500.0, 6700.0, 6700.0, 6300.0, 5800.0, 6900.0, 6600.0, 7000.0, 6600.0, 6500.0, 6300.0, 6400.0],\n",
    "    'gap': [0.04328358208955159, 0.03150684931506806, 0.04769230769230696, 0.0, 0.04328358208955159, 0.04328358208955159, 0.02380952380952343, 0.03448275862068906, 0.02608695652173875, 0.031818181818181336, 0.02428571428571394, 0.031818181818181336, 0.04769230769230696, 0.02380952380952343, 0.035937499999999435],\n",
    "    'accepted_chains': [15, 15, 15, 15, 15, 15, 15, 15, 15, 15, 15, 15, 15, 15, 15],\n",
    "    'vnfm': [9, 9, 9, 6, 9, 9, 7, 7, 8, 8, 8, 8, 9, 7, 8]\n",
    "})\n",
    "\n",
    "disjoint = pd.DataFrame(data={\n",
    "    'revenue': [800.0, 900.0, 500.0, 700.0, 1100.0, 300.0, 700.0, 1200.0, 1400.0, 2200.0, 600.0, 0.0, 1800.0, 700.0, 2100.0],\n",
    "    'gap': [0.0, 0.0, 0.0, 0.0, 0.0, 0.0, 0.0, 0.0, 0.0, 0.0, 0.0, 0.0, 0.0, 0.0, 0.0],\n",
    "    'accepted_chains': [2, 2, 1, 2, 3, 1, 2, 4, 4, 6, 2, 0, 5, 2, 6],\n",
    "    'vnfm': [0, 1, 0, 0, 0, 0, 1, 1, 1, 2, 0, 0, 2, 1, 2]\n",
    "})\n",
    "\n",
    "jrevenues.append(np.average(joint['revenue'].values))\n",
    "jrevenues_err.append(np.std(joint['revenue'].values))\n",
    "jgaps.append(np.average(joint['gap'].values))\n",
    "\n",
    "drevenues.append(np.average(disjoint['revenue'].values))\n",
    "drevenues_err.append(np.std(disjoint['revenue'].values))\n",
    "dgaps.append(np.average(disjoint['gap'].values))\n",
    "\n",
    "nchains.append(15)"
   ]
  },
  {
   "cell_type": "markdown",
   "metadata": {},
   "source": [
    "### Chains = 20"
   ]
  },
  {
   "cell_type": "code",
   "execution_count": 17,
   "metadata": {},
   "outputs": [],
   "source": [
    "joint = pd.DataFrame(data={\n",
    "    'revenue': [9000.0, 8900.0, 8300.0, 9000.0, 9200.0, 8800.0, 9000.0, 8900.0, 8600.0, 9200.0, 8800.0, 8500.0, 8900.0, 8700.0, 9500.0],\n",
    "    'gap': [0.03222222222222186, 0.03370786516853895, 0.043373493975903094, 0.03222222222222186, 0.029347826086956203, 0.03522727272727233, 0.04222222222222175, 0.023595505617977262, 0.027906976744185723, 0.029347826086956203, 0.014772727272727104, 0.03999999999999953, 0.03370786516853895, 0.026436781609195097, 0.025263157894736574],\n",
    "    'accepted_chains': [20, 20, 20, 20, 20, 20, 20, 20, 20, 20, 20, 20, 20, 20, 20],\n",
    "    'vnfm': [11, 11, 11, 11, 11, 11, 12, 10, 10, 11, 9, 11, 11, 10, 11]\n",
    "})\n",
    "\n",
    "disjoint = pd.DataFrame(data={\n",
    "    'revenue': [2600.0, 1500.0, 1500.0, 1700.0, 1200.0, 1900.0, 1300.0, 1800.0, 2500.0, 1100.0, 1400.0, 1000.0, 700.0, 3300.0, 400.0],\n",
    "    'gap': [0.0, 0.0, 0.0, 0.0, 0.0, 0.0, 0.0, 0.0, 0.04399999999999824, 0.0, 0.0, 0.0, 0.0, 0.048484848484847014, 0.0],\n",
    "    'accepted_chains': [6, 4, 4, 4, 3, 5, 3, 5, 6, 3, 4, 3, 2, 8, 1],\n",
    "    'vnfm': [3, 1, 2, 2, 1, 2, 1, 2, 4, 1, 2, 1, 1, 4, 0]\n",
    "})\n",
    "\n",
    "jrevenues.append(np.average(joint['revenue'].values))\n",
    "jrevenues_err.append(np.std(joint['revenue'].values))\n",
    "jgaps.append(np.average(joint['gap'].values))\n",
    "\n",
    "drevenues.append(np.average(disjoint['revenue'].values))\n",
    "drevenues_err.append(np.std(disjoint['revenue'].values))\n",
    "dgaps.append(np.average(disjoint['gap'].values))\n",
    "\n",
    "nchains.append(20)"
   ]
  },
  {
   "cell_type": "markdown",
   "metadata": {},
   "source": [
    "### Chains = 25"
   ]
  },
  {
   "cell_type": "code",
   "execution_count": 18,
   "metadata": {},
   "outputs": [],
   "source": [
    "joint = pd.DataFrame(data={\n",
    "    'revenue': [11300.0, 10900.0, 11200.0, 11200.0, 11200.0, 11400.0, 11300.0, 10900.0, 11100.0, 11200.0, 11200.0, 11500.0, 10700.0, 11000.0, 10900.0],\n",
    "    'gap': [0.025663716814159066, 0.03853211009174277, 0.03482142857142826, 0.03482142857142826, 0.018749999999999833, 0.032456140350876905, 0.0336283185840705, 0.030275229357797886, 0.04414414414414375, 0.042857142857142476, 0.026785714285714045, 0.03130434782608668, 0.03271028037383147, 0.029090909090908827, 0.022018348623853008],\n",
    "    'accepted_chains': [25, 25, 25, 25, 25, 25, 25, 25, 25, 25, 25, 25, 25, 25, 25],\n",
    "    'vnfm': [13, 14, 14, 14, 12, 14, 14, 13, 15, 15, 13, 14, 13, 13, 12]\n",
    "})\n",
    "\n",
    "disjoint = pd.DataFrame(data={\n",
    "    'revenue': [700.0, 2500.0, 1900.0, 2400.0, 2800.0, 10900.0, 3600.0, 2900.0, 2800.0, 1000.0, 2700.0, 9600.0, 3000.0, 1000.0, 1200.0],\n",
    "    'gap': [0.0, 0.0, 0.0, 0.0, 0.0, 0.029357798165137346, 0.03680555555555453, 0.0, 0.0, 0.0, 0.0, 0.02499999999999974, 0.04333333333333189, 0.0, 0.0],\n",
    "    'accepted_chains': [2, 6, 5, 6, 7, 24, 9, 7, 7, 3, 7, 21, 8, 2, 3],\n",
    "    'vnfm': [1, 3, 2, 4, 3, 13, 5, 3, 4, 1, 4, 11, 4, 1, 1]\n",
    "})\n",
    "\n",
    "jrevenues.append(np.average(joint['revenue'].values))\n",
    "jrevenues_err.append(np.std(joint['revenue'].values))\n",
    "jgaps.append(np.average(joint['gap'].values))\n",
    "\n",
    "drevenues.append(np.average(disjoint['revenue'].values))\n",
    "drevenues_err.append(np.std(disjoint['revenue'].values))\n",
    "dgaps.append(np.average(disjoint['gap'].values))\n",
    "\n",
    "nchains.append(25)"
   ]
  },
  {
   "cell_type": "markdown",
   "metadata": {},
   "source": [
    "### Chains = 30"
   ]
  },
  {
   "cell_type": "code",
   "execution_count": 19,
   "metadata": {},
   "outputs": [],
   "source": [
    "joint = pd.DataFrame(data={\n",
    "    'revenue': [12800.0, 13400.0, 13000.0, 13300.0, 13400.0, 13100.0, 13300.0, 13300.0, 13100.0, 13300.0, 13500.0, 13400.0, 13900.0, 13600.0, 13500.0],\n",
    "    'gap': [0.02187499999999983, 0.043283582089551915, 0.026923076923076716, 0.04436090225563876, 0.043283582089551915, 0.03282442748091578, 0.024060150375939397, 0.024060150375939667, 0.01908396946564871, 0.04436090225563876, 0.028888888888888676, 0.029850746268656494, 0.025179856115107733, 0.014705882352941069, 0.03555555555555529],\n",
    "    'accepted_chains': [30, 30, 30, 30, 30, 30, 30, 30, 30, 30, 30, 30, 30, 30, 30],\n",
    "    'vnfm': [14, 18, 15, 18, 18, 16, 15, 15, 14, 18, 16, 16, 16, 14, 17]\n",
    "})\n",
    "\n",
    "disjoint = pd.DataFrame(data={\n",
    "    'revenue': [2300.0, 10500.0, 900.0, 11400.0, 12700.0, 12200.0, 11400.0, 3200.0, 2900.0, 10900.0, 2700.0, 10900.0, 12700.0, 2500.0, 11400.0],\n",
    "    'gap': [0.0, 0.04285714285714245, 0.0, 0.04912280701754343, 0.021259842519684873, 0.03360655737704891, 0.0, 0.0, 0.038314176245209476, 0.046788990825687646, 0.03703703703703567, 0.03853211009174277, 0.035433070866141454, 0.0, 0.04122807017543823],\n",
    "    'accepted_chains': [6, 24, 2, 26, 28, 28, 25, 8, 7, 25, 7, 25, 28, 6, 26],\n",
    "    'vnfm': [3, 14, 1, 16, 14, 15, 11, 3, 4, 15, 4, 14, 16, 3, 15]\n",
    "})\n",
    "\n",
    "jrevenues.append(np.average(joint['revenue'].values))\n",
    "jrevenues_err.append(np.std(joint['revenue'].values))\n",
    "jgaps.append(np.average(joint['gap'].values))\n",
    "\n",
    "drevenues.append(np.average(disjoint['revenue'].values))\n",
    "drevenues_err.append(np.std(disjoint['revenue'].values))\n",
    "dgaps.append(np.average(disjoint['gap'].values))\n",
    "\n",
    "nchains.append(30)"
   ]
  },
  {
   "cell_type": "markdown",
   "metadata": {},
   "source": [
    "### Chains = 35"
   ]
  },
  {
   "cell_type": "code",
   "execution_count": 20,
   "metadata": {},
   "outputs": [],
   "source": [
    "joint = pd.DataFrame(data={\n",
    "    'revenue': [15800.0, 15200.0, 15000.0, 15600.0, 15700.0, 15900.0, 15800.0, 14900.0, 15500.0, 15600.0, 14800.0, 15400.0, 14900.0, 16000.0, 15900.0],\n",
    "    'gap': [0.03607594936708838, 0.03552631578947345, 0.025333333333333163, 0.01474358974358965, 0.014012738853503095, 0.01823899371069171, 0.030379746835442846, 0.04429530201342252, 0.0329032258064514, 0.01474358974358965, 0.03310810810810788, 0.03376623376623355, 0.04429530201342252, 0.02874999999999982, 0.0352201257861633],\n",
    "    'accepted_chains': [35, 35, 35, 35, 35, 35, 35, 35, 35, 35, 35, 35, 35, 35, 35],\n",
    "    'vnfm': [20, 19, 17, 16, 16, 17, 19, 20, 19, 16, 18, 19, 20, 19, 20]\n",
    "})\n",
    "\n",
    "disjoint = pd.DataFrame(data={\n",
    "    'revenue': [14100.0, 11400.0, 12900.0, 14900.0, 13700.0, 12800.0, 14300.0, 13600.0, 12900.0, 13300.0, 11300.0, 14100.0, 11400.0, 12600.0, 12800.0],\n",
    "    'gap': [0.036879432624113216, 0.03421052631578917, 0.04263565891472835, 0.03154362416107361, 0.040875912408758826, 0.03515624999999972, 0.029370629370629165, 0.0426470588235291, 0.020155038759689766, 0.03834586466165385, 0.027433628318583828, 0.04397163120567345, 0.04999999999999956, 0.0436507936507933, 0.04921874999999962],\n",
    "    'accepted_chains': [31, 27, 31, 34, 31, 29, 32, 32, 29, 31, 27, 32, 27, 28, 29],\n",
    "    'vnfm': [18, 14, 17, 18, 18, 16, 17, 18, 14, 17, 13, 19, 16, 17, 18]\n",
    "})\n",
    "\n",
    "jrevenues.append(np.average(joint['revenue'].values))\n",
    "jrevenues_err.append(np.std(joint['revenue'].values))\n",
    "jgaps.append(np.average(joint['gap'].values))\n",
    "\n",
    "drevenues.append(np.average(disjoint['revenue'].values))\n",
    "drevenues_err.append(np.std(disjoint['revenue'].values))\n",
    "dgaps.append(np.average(disjoint['gap'].values))\n",
    "\n",
    "nchains.append(35)"
   ]
  },
  {
   "cell_type": "markdown",
   "metadata": {},
   "source": [
    "### Chains = 40"
   ]
  },
  {
   "cell_type": "code",
   "execution_count": 21,
   "metadata": {},
   "outputs": [],
   "source": [
    "joint = pd.DataFrame(data={\n",
    "    'revenue': [18200.0, 16700.0, 18200.0, 17600.0, 18200.0, 18100.0, 19100.0, 17600.0, 18200.0, 17800.0, 17700.0, 18000.0, 18700.0, 17600.0, 17900.0],\n",
    "    'gap': [0.01098901098901093, 0.026347305389221403, 0.01593406593406585, 0.030113636363636197, 0.01593406593406585, 0.016574585635359025, 0.024607329842931812, 0.019886363636363525, 0.030769230769230604, 0.02865168539325827, 0.029378531073446165, 0.0222222222222221, 0.022459893048128225, 0.03011363636363599, 0.03296089385474842],\n",
    "    'accepted_chains': [40, 40, 40, 40, 40, 40, 40, 40, 40, 40, 40, 40, 40, 40, 40],\n",
    "    'vnfm': [18, 19, 19, 21, 19, 19, 22, 19, 22, 21, 21, 20, 21, 21, 22]\n",
    "})\n",
    "\n",
    "disjoint = pd.DataFrame(data={\n",
    "    'revenue': [11300.0, 12800.0, 14500.0, 12200.0, 17200.0, 17400.0, 12700.0, 17300.0, 11300.0, 15300.0, 15200.0, 17600.0, 18000.0, 14000.0, 13500.0],\n",
    "    'gap': [0.04955752212389337, 0.015624999999999879, 0.03448275862068942, 0.049180327868852056, 0.04302325581395324, 0.025862068965517095, 0.033070866141732026, 0.0375722543352599, 0.04690265486725622, 0.03464052287581665, 0.04736842105263127, 0.0454545454545452, 0.01111111111111105, 0.03928571428571401, 0.022222222222222057],\n",
    "    'accepted_chains': [25, 31, 33, 29, 39, 39, 27, 40, 25, 35, 35, 40, 38, 33, 30],\n",
    "    'vnfm': [16, 13, 18, 17, 23, 20, 16, 22, 16, 19, 21, 24, 18, 18, 15]\n",
    "})\n",
    "\n",
    "jrevenues.append(np.average(joint['revenue'].values))\n",
    "jrevenues_err.append(np.std(joint['revenue'].values))\n",
    "jgaps.append(np.average(joint['gap'].values))\n",
    "\n",
    "drevenues.append(np.average(disjoint['revenue'].values))\n",
    "drevenues_err.append(np.std(disjoint['revenue'].values))\n",
    "dgaps.append(np.average(disjoint['gap'].values))\n",
    "\n",
    "nchains.append(40)"
   ]
  },
  {
   "cell_type": "markdown",
   "metadata": {},
   "source": [
    "### Chains = 45"
   ]
  },
  {
   "cell_type": "code",
   "execution_count": 22,
   "metadata": {},
   "outputs": [],
   "source": [
    "joint = pd.DataFrame(data={\n",
    "    'revenue': [20500.0, 19700.0, 20700.0, 19300.0, 19700.0, 19700.0, 20200.0, 20700.0, 20100.0, 20400.0, 19800.0, 19800.0, 21000.0, 20200.0, 20400.0],\n",
    "    'gap': [0.014146341463414567, 0.032487309644669886, 0.030434782608695508, 0.03056994818652834, 0.03705583756345159, 0.023350253807106484, 0.029207920792079067, 0.026086956521739008, 0.04776119402985051, 0.0411764705882351, 0.04545454545454523, 0.027272727272727136, 0.019999999999999907, 0.029207920792079067, 0.03235294117647043],\n",
    "    'accepted_chains': [45, 45, 45, 45, 45, 45, 45, 45, 45, 45, 45, 45, 45, 45, 45],\n",
    "    'vnfm': [21, 24, 25, 23, 25, 22, 24, 24, 28, 27, 27, 23, 23, 24, 25]\n",
    "})\n",
    "\n",
    "disjoint = pd.DataFrame(data={\n",
    "    'revenue': [12200.0, 19300.0, 19000.0, 17100.0, 19200.0, 17500.0, 11700.0, 19800.0, 19700.0, 19800.0, 19600.0, 20000.0, 8900.0, 19400.0, 20100.0],\n",
    "    'gap': [0.025409836065573562, 0.03471502590673557, 0.04526315789473661, 0.028654970760233753, 0.01614583333333325, 0.030857142857142684, 0.03589743589743559, 0.044949494949494725, 0.04111675126903533, 0.044949494949494725, 0.03724489795918349, 0.016999999999999918, 0.0415730337078647, 0.04329896907216473, 0.04776119402985051],\n",
    "    'accepted_chains': [27, 44, 42, 40, 43, 40, 26, 44, 44, 44, 44, 45, 20, 44, 45],\n",
    "    'vnfm': [14, 24, 26, 20, 20, 21, 15, 27, 26, 27, 25, 21, 12, 26, 28]\n",
    "})\n",
    "\n",
    "jrevenues.append(np.average(joint['revenue'].values))\n",
    "jrevenues_err.append(np.std(joint['revenue'].values))\n",
    "jgaps.append(np.average(joint['gap'].values))\n",
    "\n",
    "drevenues.append(np.average(disjoint['revenue'].values))\n",
    "drevenues_err.append(np.std(disjoint['revenue'].values))\n",
    "dgaps.append(np.average(disjoint['gap'].values))\n",
    "\n",
    "nchains.append(45)"
   ]
  },
  {
   "cell_type": "markdown",
   "metadata": {},
   "source": [
    "### Chains = 50"
   ]
  },
  {
   "cell_type": "code",
   "execution_count": 23,
   "metadata": {},
   "outputs": [],
   "source": [
    "joint = pd.DataFrame(data={\n",
    "    'revenue': [22200.0, 22800.0, 22500.0, 21700.0, 21600.0, 21800.0, 22600.0, 22800.0, 22800.0, 21800.0, 22800.0, 22700.0, 22300.0, 23100.0, 23100.0],\n",
    "    'gap': [0.019819819819819732, 0.016666666666666594, 0.03822222222222205, 0.04746543778801822, 0.039814814814814636, 0.04678899082568786, 0.01769911504424771, 0.03245614035087705, 0.016666666666666594, 0.04678899082568786, 0.016666666666666594, 0.017180616740088032, 0.02331838565022411, 0.026839826839826726, 0.011255411255411208],\n",
    "    'accepted_chains': [50, 50, 50, 50, 50, 49, 50, 50, 50, 50, 50, 50, 50, 50, 50],\n",
    "    'vnfm': [24, 24, 29, 30, 28, 26, 24, 28, 24, 30, 24, 24, 25, 27, 23]\n",
    "})\n",
    "\n",
    "disjoint = pd.DataFrame(data={\n",
    "    'revenue': [9500.0, 8300.0, 8400.0, 9300.0, 20900.0, 21800.0, 21900.0, 8200.0, 20900.0, 22000.0, 9100.0, 22400.0, 9900.0, 21700.0, 20200.0],\n",
    "    'gap': [0.02842105263157865, 0.040963855421686256, 0.03928571428571382, 0.03667861409796837, 0.04832535885167442, 0.02155963302752284, 0.02922374429223731, 0.0402439024390239, 0.038755980861243836, 0.016363636363636292, 0.04065934065934021, 0.014285714285714223, 0.024242424242423996, 0.04654377880184311, 0.024752475247524632],\n",
    "    'accepted_chains': [23, 19, 19, 21, 49, 49, 49, 18, 47, 49, 20, 49, 24, 48, 45],\n",
    "    'vnfm': [11, 11, 11, 12, 29, 24, 26, 11, 27, 23, 12, 23, 11, 30, 23]\n",
    "})\n",
    "\n",
    "jrevenues.append(np.average(joint['revenue'].values))\n",
    "jrevenues_err.append(np.std(joint['revenue'].values))\n",
    "jgaps.append(np.average(joint['gap'].values))\n",
    "\n",
    "drevenues.append(np.average(disjoint['revenue'].values))\n",
    "drevenues_err.append(np.std(disjoint['revenue'].values))\n",
    "dgaps.append(np.average(disjoint['gap'].values))\n",
    "\n",
    "nchains.append(50)"
   ]
  },
  {
   "cell_type": "markdown",
   "metadata": {},
   "source": [
    "### Chains = 55"
   ]
  },
  {
   "cell_type": "code",
   "execution_count": 24,
   "metadata": {},
   "outputs": [],
   "source": [
    "joint = pd.DataFrame(data={\n",
    "    'revenue': [26100.0, 23800.0, 24100.0, 24500.0, 24700.0, 25000.0, 24100.0, 24000.0, 24600.0, 23500.0, 23400.0, 25600.0, 24800.0, 24500.0, 24000.0],\n",
    "    'gap': [0.01762452107279687, 0.044117647058823345, 0.04605809128630687, 0.010612244897959141, 0.03522267206477719, 0.02279999999999991, 0.049792531120331746, 0.04291666666666649, 0.03577235772357709, 0.04212765957446791, 0.04658119658119639, 0.019921874999999922, 0.03467741935483857, 0.02530612244897949, 0.03541666666666652],\n",
    "    'accepted_chains': [55, 55, 55, 55, 55, 55, 55, 55, 55, 55, 55, 55, 55, 55, 55],\n",
    "    'vnfm': [28, 32, 33, 24, 31, 28, 34, 32, 31, 31, 32, 28, 31, 28, 30]\n",
    "})\n",
    "\n",
    "disjoint = pd.DataFrame(data={\n",
    "    'revenue': [8400.0, 22700.0, 7000.0, 6700.0, 24300.0, 23800.0, 11400.0, 20000.0, 8300.0, 13100.0, 23100.0, 7900.0, 5300.0, 13900.0, 23300.0],\n",
    "    'gap': [0.01666666666666647, 0.04581497797356809, 0.025714285714285346, 0.044776119402984406, 0.02962962962962951, 0.03571428571428557, 0.03421052631578917, 0.04949999999999976, 0.043373493975903094, 0.04045801526717526, 0.03636363636363621, 0.03797468354430332, 0.04528301886792367, 0.040287769784172374, 0.04291845493562214],\n",
    "    'accepted_chains': [18, 52, 16, 16, 54, 53, 27, 47, 20, 31, 54, 19, 13, 33, 54],\n",
    "    'vnfm': [9, 31, 8, 9, 29, 30, 14, 28, 11, 17, 29, 10, 8, 18, 31]\n",
    "})\n",
    "\n",
    "jrevenues.append(np.average(joint['revenue'].values))\n",
    "jrevenues_err.append(np.std(joint['revenue'].values))\n",
    "jgaps.append(np.average(joint['gap'].values))\n",
    "\n",
    "drevenues.append(np.average(disjoint['revenue'].values))\n",
    "drevenues_err.append(np.std(disjoint['revenue'].values))\n",
    "dgaps.append(np.average(disjoint['gap'].values))\n",
    "\n",
    "nchains.append(55)"
   ]
  },
  {
   "cell_type": "markdown",
   "metadata": {},
   "source": [
    "### Chains = 60"
   ]
  },
  {
   "cell_type": "code",
   "execution_count": 25,
   "metadata": {},
   "outputs": [],
   "source": [
    "joint = pd.DataFrame(data={\n",
    "    'revenue': [27300.0, 26400.0, 26700.0, 25900.0, 26700.0, 27700.0, 27400.0, 26600.0, 26600.0, 27800.0, 27400.0, 26600.0, 26800.0, 27200.0, 27000.0],\n",
    "    'gap': [0.020879120879120805, 0.042045454545454386, 0.023595505617977443, 0.037837837837837694, 0.02696629213483136, 0.022382671480144323, 0.02043795620437949, 0.02406015037593976, 0.02744360902255629, 0.012230215827338086, 0.023722627737226193, 0.02067669172932323, 0.02985074626865661, 0.024632352941176383, 0.02222222222222214],\n",
    "    'accepted_chains': [60, 59, 60, 60, 60, 60, 60, 60, 60, 60, 60, 60, 60, 60, 60],\n",
    "    'vnfm': [30, 29, 30, 33, 31, 31, 30, 30, 31, 28, 31, 29, 32, 31, 30]\n",
    "})\n",
    "\n",
    "disjoint = pd.DataFrame(data={\n",
    "    'revenue': [12000.0, 7900.0, 24800.0, 26000.0, 10000.0, 26100.0, 13000.0, 8700.0, 10200.0, 12500.0, 8600.0, 17400.0, 26500.0, 7300.0, 9700.0],\n",
    "    'gap': [0.04249999999999964, 0.03797468354430332, 0.039112903225806295, 0.03384615384615372, 0.03099999999999969, 0.02183908045977003, 0.026923076923076716, 0.04827586206896496, 0.029411764705882065, 0.045599999999999634, 0.03772609819121413, 0.04770114942528709, 0.041509433962263996, 0.03424657534246529, 0.04432989690721604],\n",
    "    'accepted_chains': [27, 19, 57, 60, 23, 57, 30, 21, 24, 29, 20, 41, 60, 17, 23],\n",
    "    'vnfm': [16, 10, 32, 32, 12, 29, 15, 12, 12, 17, 11, 24, 35, 9, 13]\n",
    "})\n",
    "\n",
    "jrevenues.append(np.average(joint['revenue'].values))\n",
    "jrevenues_err.append(np.std(joint['revenue'].values))\n",
    "jgaps.append(np.average(joint['gap'].values))\n",
    "\n",
    "drevenues.append(np.average(disjoint['revenue'].values))\n",
    "drevenues_err.append(np.std(disjoint['revenue'].values))\n",
    "dgaps.append(np.average(disjoint['gap'].values))\n",
    "\n",
    "nchains.append(60)"
   ]
  },
  {
   "cell_type": "markdown",
   "metadata": {},
   "source": [
    "### Chains = 65"
   ]
  },
  {
   "cell_type": "code",
   "execution_count": 26,
   "metadata": {},
   "outputs": [],
   "source": [
    "joint = pd.DataFrame(data={\n",
    "    'revenue': [28800.0, 29900.0, 29900.0, 28900.0, 28000.0, 28800.0, 30200.0, 30500.0, 29400.0, 28100.0, 29000.0, 30300.0, 29700.0, 29800.0, 28400.0],\n",
    "    'gap': [0.03506944444444433, 0.018060200668896263, 0.021070234113712304, 0.015916955017300984, 0.03571428571428559, 0.022569444444444368, 0.01688741721854299, 0.015737704918032735, 0.02925170068027201, 0.04163701067615644, 0.0372413793103447, 0.02244224422442237, 0.015824915824915773, 0.03355704697986566, 0.04647887323943646],\n",
    "    'accepted_chains': [65, 65, 65, 65, 65, 65, 65, 65, 64, 65, 65, 65, 65, 65, 65],\n",
    "    'vnfm': [36, 32, 33, 30, 35, 32, 32, 32, 29, 37, 37, 34, 31, 37, 39]\n",
    "})\n",
    "\n",
    "disjoint = pd.DataFrame(data={\n",
    "    'revenue': [28000.0, 29000.0, 29400.0, 28300.0, 28300.0, 12300.0, 10100.0, 11500.0, 9900.0, 9000.0, 10700.0, 11100.0, 28100.0, 29400.0, 8200.0],\n",
    "    'gap': [0.04821428571428554, 0.049655172413792935, 0.019727891156462517, 0.024381625441696027, 0.024734982332155393, 0.04065040650406471, 0.02970297029702941, 0.03913043478260835, 0.031313131313130994, 0.03444444444444406, 0.03271028037383147, 0.04414414414414375, 0.03772241992882549, 0.04761904761904746, 0.021951219512194853],\n",
    "    'accepted_chains': [64, 65, 64, 64, 65, 29, 23, 25, 22, 22, 25, 25, 63, 65, 19],\n",
    "    'vnfm': [39, 41, 32, 32, 32, 16, 12, 15, 12, 11, 13, 15, 36, 41, 9]\n",
    "})\n",
    "\n",
    "jrevenues.append(np.average(joint['revenue'].values))\n",
    "jrevenues_err.append(np.std(joint['revenue'].values))\n",
    "jgaps.append(np.average(joint['gap'].values))\n",
    "\n",
    "drevenues.append(np.average(disjoint['revenue'].values))\n",
    "drevenues_err.append(np.std(disjoint['revenue'].values))\n",
    "dgaps.append(np.average(disjoint['gap'].values))\n",
    "\n",
    "nchains.append(65)"
   ]
  },
  {
   "cell_type": "markdown",
   "metadata": {},
   "source": [
    "### Chains = 70"
   ]
  },
  {
   "cell_type": "code",
   "execution_count": 27,
   "metadata": {},
   "outputs": [],
   "source": [
    "joint = pd.DataFrame(data={\n",
    "    'revenue': [32000.0, 31400.0, 32200.0, 31200.0, 32000.0, 31300.0, 32000.0, 30500.0, 32100.0, 32100.0, 31300.0, 31300.0, 30600.0, 30900.0, 31400.0],\n",
    "    'gap': [0.02312499999999993, 0.016878980891719693, 0.016770186335403676, 0.0262820512820512, 0.014687499999999954, 0.025878594249201196, 0.017499999999999946, 0.04688524590163919, 0.025545171339563785, 0.022741433021806784, 0.01725239616613413, 0.03450479233226826, 0.04346405228758156, 0.015857605177993478, 0.034076433121019004],\n",
    "    'accepted_chains': [70, 70, 70, 70, 70, 70, 70, 70, 70, 70, 70, 70, 70, 70, 70],\n",
    "    'vnfm': [36, 33, 34, 36, 33, 36, 34, 42, 37, 36, 33, 39, 41, 32, 39]\n",
    "})\n",
    "\n",
    "disjoint = pd.DataFrame(data={\n",
    "    'revenue': [12100.0, 31000.0, 32300.0, 12200.0, 10900.0, 13500.0, 8800.0, 30500.0, 10500.0, 8000.0, 13600.0, 30900.0, 11400.0, 7600.0, 11400.0],\n",
    "    'gap': [0.019834710743801488, 0.029999999999999905, 0.013622291021671786, 0.018852459016393288, 0.04770642201834819, 0.04370370370370338, 0.03522727272727233, 0.04688524590163919, 0.04285714285714245, 0.047499999999999404, 0.041911764705882044, 0.047896440129449686, 0.04210526315789437, 0.04210526315789418, 0.04912280701754343],\n",
    "    'accepted_chains': [28, 70, 70, 28, 26, 32, 20, 70, 24, 19, 31, 70, 27, 18, 26],\n",
    "    'vnfm': [13, 37, 33, 13, 15, 18, 11, 42, 14, 11, 18, 43, 15, 10, 16]\n",
    "})\n",
    "\n",
    "jrevenues.append(np.average(joint['revenue'].values))\n",
    "jrevenues_err.append(np.std(joint['revenue'].values))\n",
    "jgaps.append(np.average(joint['gap'].values))\n",
    "\n",
    "drevenues.append(np.average(disjoint['revenue'].values))\n",
    "drevenues_err.append(np.std(disjoint['revenue'].values))\n",
    "dgaps.append(np.average(disjoint['gap'].values))\n",
    "\n",
    "nchains.append(70)"
   ]
  },
  {
   "cell_type": "markdown",
   "metadata": {},
   "source": [
    "### Chains = 75"
   ]
  },
  {
   "cell_type": "code",
   "execution_count": 28,
   "metadata": {},
   "outputs": [],
   "source": [
    "joint = pd.DataFrame(data={\n",
    "    'revenue': [33700.0, 34100.0, 32900.0, 32700.0, 34100.0, 34000.0, 34600.0, 33800.0, 32700.0, 34200.0, 34300.0, 33300.0, 32900.0, 34900.0, 33500.0],\n",
    "    'gap': [0.02373887240356076, 0.01964809384164217, 0.03495440729483272, 0.049541284403669575, 0.017008797653958893, 0.02794117647058815, 0.01271676300578031, 0.031360946745562036, 0.04403669724770629, 0.014035087719298204, 0.011078717201166148, 0.022522522522522452, 0.04863221884498465, 0.022063037249283605, 0.024477611940298433],\n",
    "    'accepted_chains': [75, 75, 74, 75, 75, 75, 75, 74, 75, 75, 75, 75, 75, 75, 75],\n",
    "    'vnfm': [38, 37, 37, 46, 36, 40, 35, 37, 44, 35, 34, 37, 46, 39, 38]\n",
    "})\n",
    "\n",
    "disjoint = pd.DataFrame(data={\n",
    "    'revenue': [10300.0, 33600.0, 32400.0, 15500.0, 12200.0, 14000.0, 10000.0, 11400.0, 10400.0, 33500.0, 32300.0, 11500.0, 11800.0, 10500.0, 10700.0],\n",
    "    'gap': [0.045199568500538856, 0.03482142857142847, 0.036728395061728286, 0.03419354838709655, 0.03360655737704891, 0.04571428571428539, 0.0499999999999995, 0.03421052631578917, 0.04615384615384571, 0.03522388059701482, 0.04798761609907106, 0.041739130434782244, 0.04661016949152503, 0.04285714285714245, 0.04205607476635475],\n",
    "    'accepted_chains': [24, 75, 74, 37, 28, 33, 24, 27, 26, 75, 73, 28, 29, 24, 26],\n",
    "    'vnfm': [14, 42, 41, 19, 15, 19, 14, 14, 14, 42, 45, 15, 16, 14, 14]\n",
    "})\n",
    "\n",
    "jrevenues.append(np.average(joint['revenue'].values))\n",
    "jrevenues_err.append(np.std(joint['revenue'].values))\n",
    "jgaps.append(np.average(joint['gap'].values))\n",
    "\n",
    "drevenues.append(np.average(disjoint['revenue'].values))\n",
    "drevenues_err.append(np.std(disjoint['revenue'].values))\n",
    "dgaps.append(np.average(disjoint['gap'].values))\n",
    "\n",
    "nchains.append(75)"
   ]
  },
  {
   "cell_type": "markdown",
   "metadata": {},
   "source": [
    "### Chains = 80"
   ]
  },
  {
   "cell_type": "code",
   "execution_count": 29,
   "metadata": {},
   "outputs": [],
   "source": [
    "joint = pd.DataFrame(data={\n",
    "    'revenue': [36600.0, 35600.0, 36200.0, 37000.0, 35800.0, 36700.0, 36000.0, 36500.0, 36100.0, 35200.0, 35800.0, 37700.0, 36700.0, 36600.0, 35300.0],\n",
    "    'gap': [0.02021857923497262, 0.041292134831460554, 0.02154696132596679, 0.023783783783783718, 0.022905027932960828, 0.014986376021798323, 0.027222222222222144, 0.008219178082191757, 0.01939058171745147, 0.017329545454545403, 0.03044692737430159, 0.021485411140583496, 0.014986376021798323, 0.017759562841530005, 0.02974504249291776],\n",
    "    'accepted_chains': [80, 80, 80, 80, 80, 80, 80, 80, 80, 80, 80, 80, 80, 80, 80],\n",
    "    'vnfm': [40, 47, 40, 42, 40, 38, 42, 35, 39, 37, 43, 42, 38, 39, 42]\n",
    "})\n",
    "\n",
    "disjoint = pd.DataFrame(data={\n",
    "    'revenue': [13400.0, 15700.0, 33900.0, 12000.0, 13200.0, 36500.0, 13600.0, 14500.0, 15300.0, 12900.0, 17000.0, 12000.0, 13500.0, 34800.0, 35000.0],\n",
    "    'gap': [0.04477611940298474, 0.04331210191082775, 0.04218289085545732, 0.034999999999999705, 0.025757575757575563, 0.020547945205479395, 0.04926470588235258, 0.02896551724137911, 0.01699346405228747, 0.04263565891472835, 0.012941176470588161, 0.049999999999999586, 0.04444444444444411, 0.038793103448275745, 0.03857142857142846],\n",
    "    'accepted_chains': [32, 36, 77, 27, 31, 80, 32, 34, 35, 31, 39, 27, 33, 78, 80],\n",
    "    'vnfm': [18, 21, 45, 15, 15, 40, 19, 17, 16, 17, 17, 17, 18, 45, 45]\n",
    "})\n",
    "\n",
    "jrevenues.append(np.average(joint['revenue'].values))\n",
    "jrevenues_err.append(np.std(joint['revenue'].values))\n",
    "jgaps.append(np.average(joint['gap'].values))\n",
    "\n",
    "drevenues.append(np.average(disjoint['revenue'].values))\n",
    "drevenues_err.append(np.std(disjoint['revenue'].values))\n",
    "dgaps.append(np.average(disjoint['gap'].values))\n",
    "\n",
    "nchains.append(80)"
   ]
  },
  {
   "cell_type": "markdown",
   "metadata": {},
   "source": [
    "### Chains = 85"
   ]
  },
  {
   "cell_type": "code",
   "execution_count": 30,
   "metadata": {},
   "outputs": [],
   "source": [
    "joint = pd.DataFrame(data={\n",
    "    'revenue': [37200.0, 36300.0, 36900.0, 38300.0, 36900.0, 37200.0, 38000.0, 39600.0, 38600.0, 38100.0, 37900.0, 38000.0, 38100.0, 38800.0, 37800.0],\n",
    "    'gap': [0.014784946236559099, 0.025068870523415908, 0.02303523035230346, 0.030287206266318457, 0.032791327913279045, 0.026881720430107454, 0.028947368421052555, 0.023737373737373675, 0.019948186528497357, 0.02860892388451436, 0.0387862796833772, 0.019473684210526265, 0.016797900262467146, 0.017010309278350472, 0.0343915343915343],\n",
    "    'accepted_chains': [85, 85, 85, 85, 85, 85, 85, 85, 85, 85, 85, 85, 85, 85, 85],\n",
    "    'vnfm': [38, 41, 41, 46, 45, 43, 45, 45, 42, 45, 49, 41, 40, 41, 47]\n",
    "})\n",
    "\n",
    "disjoint = pd.DataFrame(data={\n",
    "    'revenue': [15900.0, 12800.0, 15400.0, 38400.0, 11700.0, 13600.0, 13500.0, 13600.0, 15600.0, 14600.0, 38500.0, 13400.0, 36500.0, 13200.0, 11400.0],\n",
    "    'gap': [0.04276729559748401, 0.03749999999999971, 0.023376623376623225, 0.027604166666666593, 0.032478632478632204, 0.03676470588235267, 0.04296296296296265, 0.02794117647058803, 0.04487179487179459, 0.04657534246575311, 0.012987012987012953, 0.038059701492537026, 0.0487671232876713, 0.03333333333333308, 0.03421052631578917],\n",
    "    'accepted_chains': [38, 32, 37, 85, 29, 33, 31, 30, 37, 34, 84, 32, 84, 32, 27],\n",
    "    'vnfm': [21, 16, 17, 45, 14, 17, 18, 16, 21, 20, 39, 17, 51, 16, 14]\n",
    "})\n",
    "\n",
    "jrevenues.append(np.average(joint['revenue'].values))\n",
    "jrevenues_err.append(np.std(joint['revenue'].values))\n",
    "jgaps.append(np.average(joint['gap'].values))\n",
    "\n",
    "drevenues.append(np.average(disjoint['revenue'].values))\n",
    "drevenues_err.append(np.std(disjoint['revenue'].values))\n",
    "dgaps.append(np.average(disjoint['gap'].values))\n",
    "\n",
    "nchains.append(85)"
   ]
  },
  {
   "cell_type": "markdown",
   "metadata": {},
   "source": [
    "### Chains = 90"
   ]
  },
  {
   "cell_type": "code",
   "execution_count": 31,
   "metadata": {},
   "outputs": [],
   "source": [
    "joint = pd.DataFrame(data={\n",
    "    'revenue': [41600.0, 40200.0, 41600.0, 40500.0, 39800.0, 39300.0, 40600.0, 39800.0, 40400.0, 39800.0, 40000.0, 40700.0, 40900.0, 41200.0, 41100.0],\n",
    "    'gap': [0.021153846153846103, 0.0186567164179104, 0.008173076923076903, 0.0266666666666666, 0.028894472361808973, 0.03053435114503809, 0.015270935960591094, 0.015326633165829107, 0.02475247524752469, 0.03793969849246222, 0.021499999999999946, 0.023832923832923774, 0.014425427872860599, 0.009223300970873764, 0.013868613138686097],\n",
    "    'accepted_chains': [90, 90, 90, 90, 90, 90, 90, 90, 90, 90, 90, 90, 90, 90, 90],\n",
    "    'vnfm': [46, 43, 40, 47, 47, 47, 42, 41, 46, 51, 44, 46, 42, 40, 42]\n",
    "})\n",
    "\n",
    "disjoint = pd.DataFrame(data={\n",
    "    'revenue': [40100.0, 10300.0, 39700.0, 13700.0, 16300.0, 14700.0, 14100.0, 15600.0, 17200.0, 40100.0, 15500.0, 18800.0, 39900.0, 39100.0, 15300.0],\n",
    "    'gap': [0.020448877805486234, 0.011650485436893092, 0.019395465994962165, 0.021897810218977944, 0.03987730061349669, 0.03469387755102017, 0.039007092198581284, 0.03974358974358949, 0.04999999999999971, 0.016458852867830383, 0.039999999999999744, 0.03829787234042533, 0.039849624060150274, 0.04936061381074156, 0.01699346405228747],\n",
    "    'accepted_chains': [87, 25, 87, 32, 39, 36, 34, 38, 42, 89, 37, 44, 90, 89, 35],\n",
    "    'vnfm': [44, 10, 43, 15, 21, 18, 18, 20, 24, 42, 20, 24, 52, 55, 16]\n",
    "})\n",
    "\n",
    "jrevenues.append(np.average(joint['revenue'].values))\n",
    "jrevenues_err.append(np.std(joint['revenue'].values))\n",
    "jgaps.append(np.average(joint['gap'].values))\n",
    "\n",
    "drevenues.append(np.average(disjoint['revenue'].values))\n",
    "drevenues_err.append(np.std(disjoint['revenue'].values))\n",
    "dgaps.append(np.average(disjoint['gap'].values))\n",
    "\n",
    "nchains.append(90)"
   ]
  },
  {
   "cell_type": "code",
   "execution_count": 32,
   "metadata": {
    "scrolled": false
   },
   "outputs": [
    {
     "data": {
      "text/plain": [
       "<matplotlib.legend.Legend at 0x7f108220d990>"
      ]
     },
     "execution_count": 32,
     "metadata": {},
     "output_type": "execute_result"
    },
    {
     "data": {
      "image/png": "[encoded data removed]",
      "text/plain": [
       "<Figure size 1080x1080 with 1 Axes>"
      ]
     },
     "metadata": {
      "needs_background": "light"
     },
     "output_type": "display_data"
    }
   ],
   "source": [
    "_, ax = plt.subplots(figsize=(15, 15))\n",
    "\n",
    "ax.errorbar(x=nchains, y=jrevenues, fmt='r--', label='joint', yerr=jrevenues_err)\n",
    "ax.errorbar(x=nchains, y=drevenues, fmt='b--', label='disjoint', yerr=drevenues_err)\n",
    "\n",
    "ax.set_title('FatTree')\n",
    "ax.set(ylabel='Revenue', xlabel='Chains')\n",
    "ax.legend()"
   ]
  },
  {
   "cell_type": "markdown",
   "metadata": {},
   "source": [
    "## Topology: USnet (3 to 4 nodes at each point)"
   ]
  },
  {
   "cell_type": "code",
   "execution_count": 33,
   "metadata": {},
   "outputs": [],
   "source": [
    "jrevenues = []\n",
    "jrevenues_err = []\n",
    "\n",
    "drevenues = []\n",
    "drevenues_err = []\n",
    "\n",
    "nchains = []"
   ]
  },
  {
   "cell_type": "code",
   "execution_count": 34,
   "metadata": {},
   "outputs": [],
   "source": [
    "joint_50 = pd.DataFrame(data={\n",
    "    'revenue': [23400.0, 22900.0, 23100.0, 23600.0, 22400.0, 22500.0, 23400.0, 23100.0, 22200.0, 23400.0],\n",
    "    'accepted_chains': [50, 50, 50, 50, 50, 50, 50, 50, 50, 50],\n",
    "    'vnfm': [21, 20, 21, 22, 20, 20, 21, 21, 20, 21],\n",
    "})\n",
    "\n",
    "disjoint_50 = pd.DataFrame(data={\n",
    "    'revenue': [23400.0, 22900.0, 23100.0, 23700.0, 22400.0, 22500.0, 23400.0, 23100.0, 22200.0, 23400.0],\n",
    "    'accepted_chains': [50, 50, 50, 50, 50, 50, 50, 50, 50, 50],\n",
    "    'vnfm': [21, 20, 21, 21, 20, 20, 21, 21, 20, 21],\n",
    "})\n",
    "\n",
    "jrevenues.append(np.average(joint_50['revenue'].values))\n",
    "jrevenues_err.append(np.std(joint_50['revenue'].values))\n",
    "\n",
    "drevenues.append(np.average(disjoint_50['revenue'].values))\n",
    "drevenues_err.append(np.std(disjoint_50['revenue'].values))\n",
    "\n",
    "nchains.append(50)"
   ]
  },
  {
   "cell_type": "code",
   "execution_count": 35,
   "metadata": {},
   "outputs": [],
   "source": [
    "joint_75 = pd.DataFrame(data={\n",
    "    'revenue': [35400.0, 33400.0, 34400.0, 33200.0, 33900.0, 34000.0, 34000.0, 35600.0, 33700.0, 34200.0],\n",
    "    'accepted_chains': [75, 75, 75, 75, 75, 75, 75, 75, 75, 75],\n",
    "    'vnfm': [33, 30, 32, 29, 31, 31, 31, 33, 30, 31],\n",
    "})\n",
    "\n",
    "disjoint_75 = pd.DataFrame(data={\n",
    "    'revenue': [35500.0, 33500.0, 34500.0, 33200.0, 34000.0, 34100.0, 34100.0, 35700.0, 33700.0, 34300.0],\n",
    "    'accepted_chains': [75, 75, 75, 75, 75, 75, 75, 75, 75, 75],\n",
    "    'vnfm': [32, 29, 31, 29, 30, 30, 30, 32, 30, 30],\n",
    "})\n",
    "\n",
    "jrevenues.append(np.average(joint_75['revenue'].values))\n",
    "jrevenues_err.append(np.std(joint_75['revenue'].values))\n",
    "\n",
    "drevenues.append(np.average(disjoint_75['revenue'].values))\n",
    "drevenues_err.append(np.std(disjoint_75['revenue'].values))\n",
    "\n",
    "nchains.append(75)"
   ]
  },
  {
   "cell_type": "code",
   "execution_count": 36,
   "metadata": {},
   "outputs": [],
   "source": [
    "joint_100 = pd.DataFrame(data={\n",
    "    'revenue': [44400.0, 46200.0, 45700.0, 45400.0, 45800.0, 45900.0, 44500.0, 45500.0, 44300.0, 46600.0],\n",
    "    'accepted_chains': [100, 100, 100, 100, 100, 100, 100, 100, 100, 100],\n",
    "    'vnfm': [41, 43, 41, 42, 41, 42, 40, 41, 40, 42],\n",
    "})\n",
    "\n",
    "disjoint_100 = pd.DataFrame(data={\n",
    "    'revenue': [44600.0, 46400.0, 45800.0, 45600.0, 45900.0, 46000.0, 44600.0, 45600.0, 44400.0, 46700.0],\n",
    "    'accepted_chains': [100, 100, 100, 100, 100, 100, 100, 100, 100, 100],\n",
    "    'vnfm': [39, 41, 40, 40, 40, 41, 39, 40, 39, 41],\n",
    "})\n",
    "\n",
    "jrevenues.append(np.average(joint_100['revenue'].values))\n",
    "jrevenues_err.append(np.std(joint_100['revenue'].values))\n",
    "\n",
    "drevenues.append(np.average(disjoint_100['revenue'].values))\n",
    "drevenues_err.append(np.std(disjoint_100['revenue'].values))\n",
    "\n",
    "nchains.append(100)"
   ]
  },
  {
   "cell_type": "code",
   "execution_count": 37,
   "metadata": {},
   "outputs": [],
   "source": [
    "joint_125 = pd.DataFrame(data={\n",
    "    'revenue': [57500.0, 56800.0, 56600.0, 57200.0, 57400.0, 57100.0, 56600.0, 57600.0, 57700.0, 57300.0],\n",
    "    'accepted_chains': [125, 125, 125, 125, 125, 125, 125, 125, 125, 125],\n",
    "    'vnfm': [52, 53, 52, 51, 53, 52, 51, 54, 54, 53],\n",
    "})\n",
    "\n",
    "disjoint_125 = pd.DataFrame(data={\n",
    "    'revenue': [57600.0, 57100.0, 56800.0, 57300.0, 57600.0, 57300.0, 56700.0, 57900.0, 58000.0, 57500.0],\n",
    "    'accepted_chains': [125, 125, 125, 125, 125, 125, 125, 125, 125, 125],\n",
    "    'vnfm': [51, 50, 50, 50, 51, 50, 50, 51, 51, 51],\n",
    "})\n",
    "\n",
    "jrevenues.append(np.average(joint_125['revenue'].values))\n",
    "jrevenues_err.append(np.std(joint_125['revenue'].values))\n",
    "\n",
    "drevenues.append(np.average(disjoint_125['revenue'].values))\n",
    "drevenues_err.append(np.std(disjoint_125['revenue'].values))\n",
    "\n",
    "nchains.append(125)"
   ]
  },
  {
   "cell_type": "code",
   "execution_count": 38,
   "metadata": {},
   "outputs": [],
   "source": [
    "joint_150 = pd.DataFrame(data={\n",
    "    'revenue': [67600.0, 69600.0, 68800.0, 69000.0, 69000.0, 68300.0, 69800.0, 68800.0, 69000.0, 67600.0],\n",
    "    'accepted_chains': [150, 150, 150, 149, 149, 150, 150, 150, 150, 150],\n",
    "    'vnfm': [68, 65, 66, 71, 76, 63, 66, 64, 65, 63],\n",
    "})\n",
    "\n",
    "disjoint_150 = pd.DataFrame(data={\n",
    "    'revenue': [68400.0, 69900.0, 69200.0, 70300.0, 70800.0, 68600.0, 70100.0, 69100.0, 69300.0, 67900.0],\n",
    "    'accepted_chains': [150, 150, 150, 150, 150, 150, 150, 150, 150, 150],\n",
    "    'vnfm': [60, 62, 62, 62, 62, 60, 63, 61, 62, 60],\n",
    "})\n",
    "\n",
    "jrevenues.append(np.average(joint_150['revenue'].values))\n",
    "jrevenues_err.append(np.std(joint_150['revenue'].values))\n",
    "\n",
    "drevenues.append(np.average(disjoint_150['revenue'].values))\n",
    "drevenues_err.append(np.std(disjoint_150['revenue'].values))\n",
    "\n",
    "nchains.append(150)"
   ]
  },
  {
   "cell_type": "code",
   "execution_count": 39,
   "metadata": {},
   "outputs": [
    {
     "data": {
      "text/plain": [
       "<matplotlib.legend.Legend at 0x7f10825b9f50>"
      ]
     },
     "execution_count": 39,
     "metadata": {},
     "output_type": "execute_result"
    },
    {
     "data": {
      "image/png": "[encoded data removed]",
      "text/plain": [
       "<Figure size 1080x1080 with 1 Axes>"
      ]
     },
     "metadata": {
      "needs_background": "light"
     },
     "output_type": "display_data"
    }
   ],
   "source": [
    "_, ax = plt.subplots(figsize=(15, 15))\n",
    "\n",
    "ax.errorbar(x=nchains, y=jrevenues, fmt='r--', label='joint', yerr=jrevenues_err)\n",
    "ax.errorbar(x=nchains, y=drevenues, fmt='b--', label='disjoint', yerr=drevenues_err)\n",
    "\n",
    "ax.set_title('USNet')\n",
    "ax.set(ylabel='Revenue', xlabel='Chains')\n",
    "ax.legend()"
   ]
  },
  {
   "cell_type": "code",
   "execution_count": 40,
   "metadata": {},
   "outputs": [
    {
     "name": "stdout",
     "output_type": "stream",
     "text": [
      "\\begin{tabular}{lrrr}\n",
      "\\toprule\n",
      "{} &    joint &  disjoint &  nchains \\\\\n",
      "\\midrule\n",
      "0 &  23000.0 &   23010.0 &       50 \\\\\n",
      "1 &  34180.0 &   34260.0 &       75 \\\\\n",
      "2 &  45430.0 &   45560.0 &      100 \\\\\n",
      "3 &  57180.0 &   57380.0 &      125 \\\\\n",
      "4 &  68750.0 &   69360.0 &      150 \\\\\n",
      "\\bottomrule\n",
      "\\end{tabular}\n",
      "\n"
     ]
    }
   ],
   "source": [
    "revenue = pd.DataFrame(data={\n",
    "    \"joint\": jrevenues,\n",
    "    \"disjoint\": drevenues,\n",
    "    \"nchains\": nchains,\n",
    "})\n",
    "\n",
    "print(revenue.to_latex())"
   ]
  },
  {
   "cell_type": "markdown",
   "metadata": {},
   "source": [
    "# Heuristic"
   ]
  },
  {
   "cell_type": "markdown",
   "metadata": {},
   "source": [
    "Here we want to check the optimal solution with our heuristic. We use the Fattree topology with `k` equals to 10. Optimal solution is bounded to "
   ]
  },
  {
   "cell_type": "code",
   "execution_count": 41,
   "metadata": {},
   "outputs": [
    {
     "data": {
      "text/plain": [
       "<matplotlib.legend.Legend at 0x7f108251e9d0>"
      ]
     },
     "execution_count": 41,
     "metadata": {},
     "output_type": "execute_result"
    },
    {
     "data": {
      "image/png": "[encoded data removed]",
      "text/plain": [
       "<Figure size 1080x1080 with 1 Axes>"
      ]
     },
     "metadata": {
      "needs_background": "light"
     },
     "output_type": "display_data"
    }
   ],
   "source": [
    "hresult = {\n",
    "    60: 28200,\n",
    "    50: 22900,\n",
    "    45: 20700,\n",
    "    40: 18500,\n",
    "    30: 14000,\n",
    "    20: 9300,\n",
    "    10: 4600,\n",
    "}\n",
    "\n",
    "oresult = {\n",
    "    60: 24700, # 12.47% gap\n",
    "    50: 21000, # 10.81% gap\n",
    "    45: 20200, # 3.81% gap\n",
    "    40: 17900, # 4.80% gap\n",
    "    30: 13500, # 4.89% gap\n",
    "    20: 9400,  # 0.74% gap\n",
    "    10: 4600,  # 1.96% gap\n",
    "}\n",
    "\n",
    "uresult = {\n",
    "    60: 30200,\n",
    "    50: 25300,\n",
    "    45: 20970,\n",
    "    40: 18760,\n",
    "    30: 14160,\n",
    "    20: 9470,\n",
    "    10: 4690,\n",
    "}\n",
    "\n",
    "_, ax = plt.subplots(figsize=(15, 15))\n",
    "chains = [d for d in oresult]\n",
    "ocost = [oresult[d] for d in oresult]\n",
    "hcost = [hresult[d] for d in hresult]\n",
    "ucost = [uresult[d] for d in uresult]\n",
    "\n",
    "ax.plot(chains, ocost, 'g-*', label='optimal')\n",
    "ax.plot(chains, hcost, 'b-*', label='heuristic')\n",
    "ax.plot(chains, ucost, 'r--*', label='upper bound')\n",
    "\n",
    "ax.set_title('FatTree (k = 10)')\n",
    "ax.set(ylabel='revenue', xlabel='Chains')\n",
    "ax.legend()"
   ]
  }
 ],
 "metadata": {
  "kernelspec": {
   "display_name": "Python 3",
   "language": "python",
   "name": "python3"
  },
  "language_info": {
   "codemirror_mode": {
    "name": "ipython",
    "version": 3
   },
   "file_extension": ".py",
   "mimetype": "text/x-python",
   "name": "python",
   "nbconvert_exporter": "python",
   "pygments_lexer": "ipython3",
   "version": "3.7.7"
  }
 },
 "nbformat": 4,
 "nbformat_minor": 2
}
